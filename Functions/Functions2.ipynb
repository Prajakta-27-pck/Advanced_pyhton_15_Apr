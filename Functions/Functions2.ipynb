{
 "cells": [
  {
   "cell_type": "markdown",
   "id": "bb9754a8",
   "metadata": {},
   "source": []
  },
  {
   "cell_type": "code",
   "execution_count": 1,
   "id": "ee635ff8",
   "metadata": {},
   "outputs": [
    {
     "data": {
      "text/plain": [
       "[12, 23, 45, 56]"
      ]
     },
     "execution_count": 1,
     "metadata": {},
     "output_type": "execute_result"
    }
   ],
   "source": [
    "l1 = [12,23,45,56]\n",
    "l1"
   ]
  },
  {
   "cell_type": "code",
   "execution_count": 2,
   "id": "c519e158",
   "metadata": {},
   "outputs": [],
   "source": [
    "def function(*args):\n",
    "    print(args)\n",
    "    print(type(args))"
   ]
  },
  {
   "cell_type": "code",
   "execution_count": 3,
   "id": "b263975c",
   "metadata": {},
   "outputs": [
    {
     "name": "stdout",
     "output_type": "stream",
     "text": [
      "(12, 45, 76)\n",
      "<class 'tuple'>\n"
     ]
    }
   ],
   "source": [
    "function(12,45,76)"
   ]
  },
  {
   "cell_type": "code",
   "execution_count": 4,
   "id": "8fd566ca",
   "metadata": {},
   "outputs": [
    {
     "name": "stdout",
     "output_type": "stream",
     "text": [
      "([12, 23, 45, 56],)\n",
      "<class 'tuple'>\n"
     ]
    }
   ],
   "source": [
    "function(l1)"
   ]
  },
  {
   "cell_type": "code",
   "execution_count": 5,
   "id": "fe1c1cf0",
   "metadata": {},
   "outputs": [],
   "source": [
    "def add(l):\n",
    "    total = 0\n",
    "    for i in l:\n",
    "        total = total +i\n",
    "    return total    "
   ]
  },
  {
   "cell_type": "code",
   "execution_count": 6,
   "id": "f78a02e6",
   "metadata": {},
   "outputs": [
    {
     "data": {
      "text/plain": [
       "136"
      ]
     },
     "execution_count": 6,
     "metadata": {},
     "output_type": "execute_result"
    }
   ],
   "source": [
    "add(l1)"
   ]
  },
  {
   "cell_type": "markdown",
   "id": "39dfe48f",
   "metadata": {},
   "source": [
    "#### **kwargs"
   ]
  },
  {
   "cell_type": "code",
   "execution_count": 7,
   "id": "92cd02fa",
   "metadata": {},
   "outputs": [],
   "source": [
    "def func(**kwargs):\n",
    "    print(kwargs)\n",
    "    print(type(kwargs))"
   ]
  },
  {
   "cell_type": "code",
   "execution_count": 8,
   "id": "1fe12435",
   "metadata": {},
   "outputs": [
    {
     "name": "stdout",
     "output_type": "stream",
     "text": [
      "{'name': 'Umesh', 'age': 28, 'Profession': 'Buisness'}\n",
      "<class 'dict'>\n"
     ]
    }
   ],
   "source": [
    "func(name = 'Umesh', age = 28, Profession= 'Buisness')"
   ]
  },
  {
   "cell_type": "code",
   "execution_count": 9,
   "id": "c7ca122a",
   "metadata": {},
   "outputs": [],
   "source": [
    "user = {'name':'smeeta', 'age':28, 'Education':'ME' }"
   ]
  },
  {
   "cell_type": "code",
   "execution_count": 19,
   "id": "67771886",
   "metadata": {},
   "outputs": [
    {
     "data": {
      "text/plain": [
       "{'name': 'smeeta',\n",
       " 'age': 28,\n",
       " 'Education': 'ME',\n",
       " 'Position': 'DA',\n",
       " 'Name': ['Shruti', 'Sneha']}"
      ]
     },
     "execution_count": 19,
     "metadata": {},
     "output_type": "execute_result"
    }
   ],
   "source": [
    "user['Position'] = 'DA'\n",
    "user    "
   ]
  },
  {
   "cell_type": "code",
   "execution_count": 20,
   "id": "eb97dcaf",
   "metadata": {},
   "outputs": [],
   "source": [
    "user.update({'Name':['Shruti', 'Sneha']})"
   ]
  },
  {
   "cell_type": "code",
   "execution_count": 21,
   "id": "a90e56de",
   "metadata": {},
   "outputs": [
    {
     "data": {
      "text/plain": [
       "{'name': 'smeeta',\n",
       " 'age': 28,\n",
       " 'Education': 'ME',\n",
       " 'Position': 'DA',\n",
       " 'Name': ['Shruti', 'Sneha']}"
      ]
     },
     "execution_count": 21,
     "metadata": {},
     "output_type": "execute_result"
    }
   ],
   "source": [
    "user"
   ]
  },
  {
   "cell_type": "code",
   "execution_count": 11,
   "id": "a1d314ea",
   "metadata": {},
   "outputs": [],
   "source": [
    "def fun11(**kwagrs):\n",
    "      user = {'name':None,\n",
    "            'Age':None,\n",
    "            'Education':None}\n",
    "      user.update(kwargs)\n",
    "      return user"
   ]
  },
  {
   "cell_type": "code",
   "execution_count": 12,
   "id": "4a0f7271",
   "metadata": {},
   "outputs": [
    {
     "ename": "NameError",
     "evalue": "name 'kwargs' is not defined",
     "output_type": "error",
     "traceback": [
      "\u001b[31m---------------------------------------------------------------------------\u001b[39m",
      "\u001b[31mNameError\u001b[39m                                 Traceback (most recent call last)",
      "\u001b[36mCell\u001b[39m\u001b[36m \u001b[39m\u001b[32mIn[12]\u001b[39m\u001b[32m, line 1\u001b[39m\n\u001b[32m----> \u001b[39m\u001b[32m1\u001b[39m \u001b[43mfun11\u001b[49m\u001b[43m(\u001b[49m\u001b[43mname\u001b[49m\u001b[43m \u001b[49m\u001b[43m=\u001b[49m\u001b[43m \u001b[49m\u001b[33;43m'\u001b[39;49m\u001b[33;43mSunita\u001b[39;49m\u001b[33;43m'\u001b[39;49m\u001b[43m)\u001b[49m\n",
      "\u001b[36mCell\u001b[39m\u001b[36m \u001b[39m\u001b[32mIn[11]\u001b[39m\u001b[32m, line 5\u001b[39m, in \u001b[36mfun11\u001b[39m\u001b[34m(**kwagrs)\u001b[39m\n\u001b[32m      1\u001b[39m \u001b[38;5;28;01mdef\u001b[39;00m\u001b[38;5;250m \u001b[39m\u001b[34mfun11\u001b[39m(**kwagrs):\n\u001b[32m      2\u001b[39m       user = {\u001b[33m'\u001b[39m\u001b[33mname\u001b[39m\u001b[33m'\u001b[39m:\u001b[38;5;28;01mNone\u001b[39;00m,\n\u001b[32m      3\u001b[39m             \u001b[33m'\u001b[39m\u001b[33mAge\u001b[39m\u001b[33m'\u001b[39m:\u001b[38;5;28;01mNone\u001b[39;00m,\n\u001b[32m      4\u001b[39m             \u001b[33m'\u001b[39m\u001b[33mEducation\u001b[39m\u001b[33m'\u001b[39m:\u001b[38;5;28;01mNone\u001b[39;00m}\n\u001b[32m----> \u001b[39m\u001b[32m5\u001b[39m       user.update(\u001b[43mkwargs\u001b[49m)\n\u001b[32m      6\u001b[39m       \u001b[38;5;28;01mreturn\u001b[39;00m user\n",
      "\u001b[31mNameError\u001b[39m: name 'kwargs' is not defined"
     ]
    }
   ],
   "source": [
    "fun11(name = 'Sunita')"
   ]
  },
  {
   "cell_type": "code",
   "execution_count": 20,
   "id": "11cf54d5",
   "metadata": {},
   "outputs": [],
   "source": [
    "def function(**kwargs):\n",
    "    user = {'Name' : None , 'Age' : None}\n",
    "    user.update(kwargs)\n",
    "    return user"
   ]
  },
  {
   "cell_type": "code",
   "execution_count": 21,
   "id": "590d8ebb",
   "metadata": {},
   "outputs": [
    {
     "data": {
      "text/plain": [
       "{'Name': 'sss', 'Age': None}"
      ]
     },
     "execution_count": 21,
     "metadata": {},
     "output_type": "execute_result"
    }
   ],
   "source": [
    "function(Name = 'sss')\n"
   ]
  },
  {
   "cell_type": "code",
   "execution_count": 22,
   "id": "036bef41",
   "metadata": {},
   "outputs": [
    {
     "ename": "NameError",
     "evalue": "name 'user' is not defined",
     "output_type": "error",
     "traceback": [
      "\u001b[31m---------------------------------------------------------------------------\u001b[39m",
      "\u001b[31mNameError\u001b[39m                                 Traceback (most recent call last)",
      "\u001b[36mCell\u001b[39m\u001b[36m \u001b[39m\u001b[32mIn[22]\u001b[39m\u001b[32m, line 1\u001b[39m\n\u001b[32m----> \u001b[39m\u001b[32m1\u001b[39m function(**\u001b[43muser\u001b[49m)\n",
      "\u001b[31mNameError\u001b[39m: name 'user' is not defined"
     ]
    }
   ],
   "source": [
    "function(**user)"
   ]
  },
  {
   "cell_type": "code",
   "execution_count": 3,
   "id": "6d516ab7",
   "metadata": {},
   "outputs": [],
   "source": [
    "def func1(**kwargs):\n",
    "    print(kwargs)\n",
    "    print(type(kwargs))"
   ]
  },
  {
   "cell_type": "code",
   "execution_count": 4,
   "id": "d60850ea",
   "metadata": {},
   "outputs": [
    {
     "name": "stdout",
     "output_type": "stream",
     "text": [
      "{'Name': 'Seeta', 'Age': 28, 'Education': 'MS'}\n",
      "<class 'dict'>\n"
     ]
    }
   ],
   "source": [
    "func1(Name= 'Seeta', Age= 28, Education= 'MS')"
   ]
  },
  {
   "cell_type": "code",
   "execution_count": 5,
   "id": "3eec798f",
   "metadata": {},
   "outputs": [],
   "source": [
    "def fun1(**kwargs):\n",
    "    user = {'Name' : None , \n",
    "            'Age' : None, \n",
    "            'Education': None}\n",
    "    for key in user.keys():\n",
    "        if key in user.keys():\n",
    "            user.update(kwargs)\n",
    "        else:\n",
    "            print('Keys are different')  \n",
    "    return user"
   ]
  },
  {
   "cell_type": "code",
   "execution_count": 6,
   "id": "38e0c9f7",
   "metadata": {},
   "outputs": [
    {
     "name": "stdout",
     "output_type": "stream",
     "text": [
      "{'Name': 'Seeta'}\n",
      "<class 'dict'>\n"
     ]
    }
   ],
   "source": [
    "func1(Name = 'Seeta')"
   ]
  },
  {
   "cell_type": "code",
   "execution_count": 7,
   "id": "9699e40d",
   "metadata": {},
   "outputs": [
    {
     "name": "stdout",
     "output_type": "stream",
     "text": [
      "{'NAME': 'Sunita'}\n",
      "<class 'dict'>\n"
     ]
    }
   ],
   "source": [
    "func1(NAME = 'Sunita')"
   ]
  },
  {
   "cell_type": "code",
   "execution_count": 1,
   "id": "b9ae3270",
   "metadata": {},
   "outputs": [],
   "source": [
    "def func1(**kwargs):\n",
    "    user = {'Name' : None,\n",
    "            'Age' : None,\n",
    "             'Education' : None}\n",
    "    for key in kwargs.keys():\n",
    "        if key in user.keys():\n",
    "            user[key]= kwargs[key]\n",
    "    return user"
   ]
  },
  {
   "cell_type": "code",
   "execution_count": 2,
   "id": "ec6d13b7",
   "metadata": {},
   "outputs": [
    {
     "data": {
      "text/plain": [
       "{'Name': 'seeta', 'Age': None, 'Education': 'Msc'}"
      ]
     },
     "execution_count": 2,
     "metadata": {},
     "output_type": "execute_result"
    }
   ],
   "source": [
    "func1(Name = 'seeta' , age = 23 , Education  = 'Msc')"
   ]
  },
  {
   "cell_type": "code",
   "execution_count": null,
   "id": "40cdccb5",
   "metadata": {},
   "outputs": [],
   "source": [
    "func1()"
   ]
  }
 ],
 "metadata": {
  "kernelspec": {
   "display_name": ".venv",
   "language": "python",
   "name": "python3"
  },
  "language_info": {
   "codemirror_mode": {
    "name": "ipython",
    "version": 3
   },
   "file_extension": ".py",
   "mimetype": "text/x-python",
   "name": "python",
   "nbconvert_exporter": "python",
   "pygments_lexer": "ipython3",
   "version": "3.13.3"
  }
 },
 "nbformat": 4,
 "nbformat_minor": 5
}
