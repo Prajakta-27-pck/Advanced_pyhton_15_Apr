{
 "cells": [
  {
   "cell_type": "code",
   "execution_count": 1,
   "id": "68d4305c",
   "metadata": {},
   "outputs": [],
   "source": [
    "menu = {'Pizza'.lower()  : 250 , \n",
    "        'Burgure'.lower() : 150 ,\n",
    "        'Sandwich'.lower() :  100 , \n",
    "        'cofee'.lower() :  40}"
   ]
  },
  {
   "cell_type": "code",
   "execution_count": 2,
   "id": "d3bccb46",
   "metadata": {},
   "outputs": [],
   "source": [
    "def function(**kwargs):\n",
    "    total_bill = 0\n",
    "    for food , qauntity in kwargs.items():\n",
    "        price = menu.get(food)\n",
    "        if price is not None:\n",
    "            subtotal = price* qauntity\n",
    "            print(f'bill for {food} is {subtotal}')\n",
    "            total_bill = total_bill + subtotal\n",
    "           \n",
    "    print('Total bill is ' , total_bill) "
   ]
  },
  {
   "cell_type": "code",
   "execution_count": 3,
   "id": "ae95bc3f",
   "metadata": {},
   "outputs": [
    {
     "name": "stdout",
     "output_type": "stream",
     "text": [
      "bill for pizza is 500\n",
      "bill for burgure is 450\n",
      "Total bill is  950\n"
     ]
    }
   ],
   "source": [
    "function(pizza = 2, burgure = 3)"
   ]
  },
  {
   "cell_type": "code",
   "execution_count": 4,
   "id": "1cf3dc8b",
   "metadata": {},
   "outputs": [],
   "source": [
    "def function(**kwargs):\n",
    "    total_bill = 0\n",
    "    for food , qauntity in kwargs.items():\n",
    "        food = food.lower()\n",
    "        price = menu.get(food)\n",
    "        if price is not None :\n",
    "            subtotal = price* qauntity\n",
    "            print(f'bill for {food} is {subtotal}')\n",
    "            total_bill = total_bill + subtotal\n",
    "        else:\n",
    "            print(f'{food} item is not available')\n",
    "           \n",
    "    print('Total bill is ' , total_bill) "
   ]
  },
  {
   "cell_type": "code",
   "execution_count": 5,
   "id": "3a887259",
   "metadata": {},
   "outputs": [
    {
     "name": "stdout",
     "output_type": "stream",
     "text": [
      "bill for pizza is 500\n",
      "bill for burgure is 450\n",
      "samosa item is not available\n",
      "Total bill is  950\n"
     ]
    }
   ],
   "source": [
    "function(pizza = 2, burgure = 3, samosa = 2)"
   ]
  },
  {
   "cell_type": "code",
   "execution_count": 7,
   "id": "60c7759a",
   "metadata": {},
   "outputs": [
    {
     "data": {
      "text/plain": [
       "250"
      ]
     },
     "execution_count": 7,
     "metadata": {},
     "output_type": "execute_result"
    }
   ],
   "source": [
    "menu.get('Pizza'.lower())"
   ]
  },
  {
   "cell_type": "code",
   "execution_count": 9,
   "id": "8b0d501e",
   "metadata": {},
   "outputs": [
    {
     "data": {
      "text/plain": [
       "40"
      ]
     },
     "execution_count": 9,
     "metadata": {},
     "output_type": "execute_result"
    }
   ],
   "source": [
    "menu.get('cofee'.lower())"
   ]
  },
  {
   "cell_type": "code",
   "execution_count": 11,
   "id": "b30850ff",
   "metadata": {},
   "outputs": [],
   "source": [
    "def welcome(func):\n",
    "    def wrapper(*args, **kwargs):\n",
    "        print('Welcome user')\n",
    "        print('Thank you for using this data')\n",
    "        result = func(*args, **kwargs)\n",
    "        return result\n",
    "    return wrapper    \n"
   ]
  },
  {
   "cell_type": "code",
   "execution_count": 12,
   "id": "21b648f6",
   "metadata": {},
   "outputs": [],
   "source": [
    "@welcome\n",
    "def simple_interest(P, N, R):\n",
    "    \"\"\" P: principal amount,\n",
    "    N: Number of years,\n",
    "    R: interest rate\"\"\"\n",
    "    interest = P*N*R/100\n",
    "    return interest"
   ]
  },
  {
   "cell_type": "code",
   "execution_count": 13,
   "id": "7d9a661e",
   "metadata": {},
   "outputs": [
    {
     "name": "stdout",
     "output_type": "stream",
     "text": [
      "Welcome user\n",
      "Thank you for using this data\n"
     ]
    },
    {
     "data": {
      "text/plain": [
       "63000.0"
      ]
     },
     "execution_count": 13,
     "metadata": {},
     "output_type": "execute_result"
    }
   ],
   "source": [
    "simple_interest(450000,2,7)"
   ]
  },
  {
   "cell_type": "code",
   "execution_count": 1,
   "id": "984bc437",
   "metadata": {},
   "outputs": [],
   "source": [
    "user = {'Sarthak1': 'Sarthak@123',\n",
    "        'Sunita23':'Sunita@123',\n",
    "        'test23':'test@567'}"
   ]
  },
  {
   "cell_type": "code",
   "execution_count": 2,
   "id": "c33dfd27",
   "metadata": {},
   "outputs": [
    {
     "name": "stdout",
     "output_type": "stream",
     "text": [
      "None\n"
     ]
    }
   ],
   "source": [
    "a = user.get('Sarthak')\n",
    "print(a)"
   ]
  },
  {
   "cell_type": "code",
   "execution_count": 3,
   "id": "99d9353e",
   "metadata": {},
   "outputs": [
    {
     "data": {
      "text/plain": [
       "'Sarthak@123'"
      ]
     },
     "execution_count": 3,
     "metadata": {},
     "output_type": "execute_result"
    }
   ],
   "source": [
    "user['Sarthak1']"
   ]
  },
  {
   "cell_type": "code",
   "execution_count": 8,
   "id": "09a30782",
   "metadata": {},
   "outputs": [],
   "source": [
    "def Authenticate(func):\n",
    "    def wrapper(username, password, *args, **kwargs):\n",
    "        if (username in user.keys()) and (password == user.get(username)):\n",
    "            print(f'Login Succesful welcome {username}')\n",
    "            result = func(username, password, *args, **kwargs)\n",
    "            print(result)\n",
    "            print('Thank You')\n",
    "        else:\n",
    "            print('Invalid Login Credential')\n",
    "            print('Please check username and password')\n",
    "            print('Thank you')\n",
    "    return wrapper            "
   ]
  },
  {
   "cell_type": "code",
   "execution_count": 9,
   "id": "6459b9c9",
   "metadata": {},
   "outputs": [],
   "source": [
    "@Authenticate\n",
    "def compound_interest(username, password, P, N, R):\n",
    "    \"\"\"\n",
    "    P:\n",
    "    N:\n",
    "    R:\n",
    "    \"\"\"\n",
    "    A = P*(1+R/100)**N\n",
    "    I = A - P\n",
    "    print('Total Amount to be return', A)\n",
    "    print('Compund_Interest', I)\n"
   ]
  },
  {
   "cell_type": "code",
   "execution_count": 10,
   "id": "252b4683",
   "metadata": {},
   "outputs": [
    {
     "name": "stdout",
     "output_type": "stream",
     "text": [
      "Login Succesful welcome Sarthak1\n",
      "Total Amount to be return 600613.7499999999\n",
      "Compund_Interest 50613.74999999988\n",
      "None\n",
      "Thank You\n"
     ]
    }
   ],
   "source": [
    "compound_interest('Sarthak1', 'Sarthak@123', 550000, 2, 4.5)"
   ]
  },
  {
   "cell_type": "code",
   "execution_count": null,
   "id": "5b6e417c",
   "metadata": {},
   "outputs": [
    {
     "name": "stdout",
     "output_type": "stream",
     "text": [
      "Invalid Login Credential\n",
      "Please check username and password\n",
      "Thank you\n"
     ]
    }
   ],
   "source": [
    "compound_interest('Sarthak', 'Sarthak@123', 550000, 2, 4.5)"
   ]
  },
  {
   "cell_type": "markdown",
   "id": "ce1ef8fc",
   "metadata": {},
   "source": [
    "##### creat decorator to calculate time"
   ]
  },
  {
   "cell_type": "code",
   "execution_count": 13,
   "id": "2134863a",
   "metadata": {},
   "outputs": [],
   "source": [
    "import time"
   ]
  },
  {
   "cell_type": "code",
   "execution_count": 14,
   "id": "7ff83b04",
   "metadata": {},
   "outputs": [],
   "source": [
    "def total_time(func):\n",
    "    def wrapper(*args, **kwargs):\n",
    "        start = time.time()\n",
    "        result = func(*args, **kwargs)\n",
    "        end = time.time()\n",
    "        elapsed_time = end - start\n",
    "        print(f'elapsed time is {elapsed_time} seconds')\n",
    "        print(result)\n",
    "    return wrapper    "
   ]
  },
  {
   "cell_type": "code",
   "execution_count": 15,
   "id": "542fab7d",
   "metadata": {},
   "outputs": [],
   "source": [
    "@total_time\n",
    "def compound_interest(P, N, R):\n",
    "    \"\"\"\n",
    "    P:\n",
    "    N:\n",
    "    R:\n",
    "    \"\"\"\n",
    "    A = P*(1+R/100)**N\n",
    "    I = A - P\n",
    "    print('Total Amount to be return', A)\n",
    "    print('Compund_Interest', I)"
   ]
  },
  {
   "cell_type": "code",
   "execution_count": 16,
   "id": "33fec3ed",
   "metadata": {},
   "outputs": [
    {
     "name": "stdout",
     "output_type": "stream",
     "text": [
      "Total Amount to be return 104040.0\n",
      "Compund_Interest 4040.0\n",
      "elapsed time is 0.0007026195526123047 seconds\n",
      "None\n"
     ]
    }
   ],
   "source": [
    "compound_interest(100000, 2, 2)"
   ]
  },
  {
   "cell_type": "code",
   "execution_count": 29,
   "id": "789e62d8",
   "metadata": {},
   "outputs": [],
   "source": [
    "import time"
   ]
  },
  {
   "cell_type": "code",
   "execution_count": 36,
   "metadata": {},
   "outputs": [],
   "source": [
    "def total_time(func):\n",
    "    def wrapper(*args, **kwargs):\n",
    "        start = time.time()\n",
    "        result = func(*args, **kwargs)\n",
    "        end = time.time()\n",
    "        elapsed_time = end - start\n",
    "        print('elapsed time is', elapsed_time, 'seconds')\n",
    "        print(result)\n",
    "    return wrapper    "
   ]
  },
  {
   "cell_type": "code",
   "execution_count": 37,
   "id": "7338c90f",
   "metadata": {},
   "outputs": [],
   "source": [
    "@total_time\n",
    "def compound_interest(P, N, R):\n",
    "    \"\"\"\n",
    "    P:\n",
    "    N:\n",
    "    R:\n",
    "    \"\"\"\n",
    "    A = P*(1+R/100)**N\n",
    "    I = A - P\n",
    "    print('Total Amount to be return', A)\n",
    "    print('Compund_Interest', I)"
   ]
  },
  {
   "cell_type": "code",
   "execution_count": 38,
   "id": "a8f65e93",
   "metadata": {},
   "outputs": [
    {
     "name": "stdout",
     "output_type": "stream",
     "text": [
      "Total Amount to be return 159135.0\n",
      "Compund_Interest 9135.0\n",
      "elapsed time is 0.0015499591827392578 seconds\n",
      "None\n"
     ]
    }
   ],
   "source": [
    "compound_interest(150000,2,3)"
   ]
  },
  {
   "cell_type": "code",
   "execution_count": null,
   "id": "2d65da6c",
   "metadata": {},
   "outputs": [],
   "source": [
    "def total_time(func):\n",
    "    def wrapper(*args, **kwargs):\n",
    "        start = time.time()\n",
    "        result = func(*args, **kwargs)\n",
    "        end = time.time()\n",
    "        elapsed_time = end - start\n",
    "        print(\"elapsed time is\" + str(elapsed_time)+ \"seconds\")\n",
    "        print(result)\n",
    "    return wrapper    "
   ]
  },
  {
   "cell_type": "code",
   "execution_count": 43,
   "id": "c28c86cb",
   "metadata": {},
   "outputs": [],
   "source": [
    "@total_time\n",
    "def compound_interest(P, N, R):\n",
    "    \"\"\"\n",
    "    P:\n",
    "    N:\n",
    "    R:\n",
    "    \"\"\"\n",
    "    A = P*(1+R/100)**N\n",
    "    I = A - P\n",
    "    print('Total Amount to be return', A)\n",
    "    print('Compund_Interest', I)"
   ]
  },
  {
   "cell_type": "code",
   "execution_count": 44,
   "metadata": {},
   "outputs": [
    {
     "name": "stdout",
     "output_type": "stream",
     "text": [
      "Total Amount to be return 159135.0\n",
      "Compund_Interest 9135.0\n",
      "elapsed time is0.0006864070892333984seconds\n",
      "None\n"
     ]
    }
   ],
   "source": [
    "compound_interest(150000,2,3)"
   ]
  },
  {
   "cell_type": "code",
   "execution_count": null,
   "id": "f9d9e72f",
   "metadata": {},
   "outputs": [],
   "source": []
  },
  {
   "cell_type": "code",
   "execution_count": null,
   "id": "dcd170e0",
   "metadata": {},
   "outputs": [],
   "source": []
  },
  {
   "cell_type": "code",
   "execution_count": null,
   "id": "27446e50",
   "metadata": {},
   "outputs": [],
   "source": []
  },
  {
   "cell_type": "code",
   "execution_count": null,
   "id": "d454250f",
   "metadata": {},
   "outputs": [],
   "source": []
  }
 ],
 "metadata": {
  "kernelspec": {
   "display_name": ".venv",
   "language": "python",
   "name": "python3"
  },
  "language_info": {
   "codemirror_mode": {
    "name": "ipython",
    "version": 3
   },
   "file_extension": ".py",
   "mimetype": "text/x-python",
   "name": "python",
   "nbconvert_exporter": "python",
   "pygments_lexer": "ipython3",
   "version": "3.13.3"
  }
 },
 "nbformat": 4,
 "nbformat_minor": 5
}
