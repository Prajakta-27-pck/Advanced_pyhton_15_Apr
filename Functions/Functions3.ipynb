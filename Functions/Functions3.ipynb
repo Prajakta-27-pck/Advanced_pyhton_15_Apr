{
 "cells": [
  {
   "cell_type": "code",
   "execution_count": 1,
   "id": "68d4305c",
   "metadata": {},
   "outputs": [],
   "source": [
    "menu = {'Pizza'.lower()  : 250 , \n",
    "        'Burgure'.lower() : 150 ,\n",
    "        'Sandwich'.lower() :  100 , \n",
    "        'cofee'.lower() :  40}"
   ]
  },
  {
   "cell_type": "code",
   "execution_count": 2,
   "id": "d3bccb46",
   "metadata": {},
   "outputs": [],
   "source": [
    "def function(**kwargs):\n",
    "    total_bill = 0\n",
    "    for food , qauntity in kwargs.items():\n",
    "        price = menu.get(food)\n",
    "        if price is not None:\n",
    "            subtotal = price* qauntity\n",
    "            print(f'bill for {food} is {subtotal}')\n",
    "            total_bill = total_bill + subtotal\n",
    "           \n",
    "    print('Total bill is ' , total_bill) "
   ]
  },
  {
   "cell_type": "code",
   "execution_count": 3,
   "id": "ae95bc3f",
   "metadata": {},
   "outputs": [
    {
     "name": "stdout",
     "output_type": "stream",
     "text": [
      "bill for pizza is 500\n",
      "bill for burgure is 450\n",
      "Total bill is  950\n"
     ]
    }
   ],
   "source": [
    "function(pizza = 2, burgure = 3)"
   ]
  },
  {
   "cell_type": "code",
   "execution_count": 4,
   "id": "1cf3dc8b",
   "metadata": {},
   "outputs": [],
   "source": [
    "def function(**kwargs):\n",
    "    total_bill = 0\n",
    "    for food , qauntity in kwargs.items():\n",
    "        food = food.lower()\n",
    "        price = menu.get(food)\n",
    "        if price is not None :\n",
    "            subtotal = price* qauntity\n",
    "            print(f'bill for {food} is {subtotal}')\n",
    "            total_bill = total_bill + subtotal\n",
    "        else:\n",
    "            print(f'{food} item is not available')\n",
    "           \n",
    "    print('Total bill is ' , total_bill) "
   ]
  },
  {
   "cell_type": "code",
   "execution_count": 5,
   "id": "3a887259",
   "metadata": {},
   "outputs": [
    {
     "name": "stdout",
     "output_type": "stream",
     "text": [
      "bill for pizza is 500\n",
      "bill for burgure is 450\n",
      "samosa item is not available\n",
      "Total bill is  950\n"
     ]
    }
   ],
   "source": [
    "function(pizza = 2, burgure = 3, samosa = 2)"
   ]
  },
  {
   "cell_type": "code",
   "execution_count": 7,
   "id": "60c7759a",
   "metadata": {},
   "outputs": [
    {
     "data": {
      "text/plain": [
       "250"
      ]
     },
     "execution_count": 7,
     "metadata": {},
     "output_type": "execute_result"
    }
   ],
   "source": [
    "menu.get('Pizza'.lower())"
   ]
  },
  {
   "cell_type": "code",
   "execution_count": 9,
   "id": "8b0d501e",
   "metadata": {},
   "outputs": [
    {
     "data": {
      "text/plain": [
       "40"
      ]
     },
     "execution_count": 9,
     "metadata": {},
     "output_type": "execute_result"
    }
   ],
   "source": [
    "menu.get('cofee'.lower())"
   ]
  },
  {
   "cell_type": "code",
   "execution_count": 11,
   "id": "b30850ff",
   "metadata": {},
   "outputs": [],
   "source": [
    "def welcome(func):\n",
    "    def wrapper(*args, **kwargs):\n",
    "        print('Welcome user')\n",
    "        print('Thank you for using this data')\n",
    "        result = func(*args, **kwargs)\n",
    "        return result\n",
    "    return wrapper    \n"
   ]
  },
  {
   "cell_type": "code",
   "execution_count": 12,
   "id": "21b648f6",
   "metadata": {},
   "outputs": [],
   "source": [
    "@welcome\n",
    "def simple_interest(P, N, R):\n",
    "    \"\"\" P: principal amount,\n",
    "    N: Number of years,\n",
    "    R: interest rate\"\"\"\n",
    "    interest = P*N*R/100\n",
    "    return interest"
   ]
  },
  {
   "cell_type": "code",
   "execution_count": 13,
   "id": "7d9a661e",
   "metadata": {},
   "outputs": [
    {
     "name": "stdout",
     "output_type": "stream",
     "text": [
      "Welcome user\n",
      "Thank you for using this data\n"
     ]
    },
    {
     "data": {
      "text/plain": [
       "63000.0"
      ]
     },
     "execution_count": 13,
     "metadata": {},
     "output_type": "execute_result"
    }
   ],
   "source": [
    "simple_interest(450000,2,7)"
   ]
  },
  {
   "cell_type": "code",
   "execution_count": null,
   "id": "984bc437",
   "metadata": {},
   "outputs": [],
   "source": []
  },
  {
   "cell_type": "code",
   "execution_count": null,
   "id": "d454250f",
   "metadata": {},
   "outputs": [],
   "source": []
  }
 ],
 "metadata": {
  "kernelspec": {
   "display_name": ".venv",
   "language": "python",
   "name": "python3"
  },
  "language_info": {
   "codemirror_mode": {
    "name": "ipython",
    "version": 3
   },
   "file_extension": ".py",
   "mimetype": "text/x-python",
   "name": "python",
   "nbconvert_exporter": "python",
   "pygments_lexer": "ipython3",
   "version": "3.13.3"
  }
 },
 "nbformat": 4,
 "nbformat_minor": 5
}
