{
 "cells": [
  {
   "cell_type": "markdown",
   "id": "53a3a29a",
   "metadata": {},
   "source": [
    "#### Class"
   ]
  },
  {
   "cell_type": "code",
   "execution_count": 1,
   "id": "865edb0c",
   "metadata": {},
   "outputs": [
    {
     "name": "stdout",
     "output_type": "stream",
     "text": [
      "<class 'int'>\n"
     ]
    }
   ],
   "source": [
    "num1 =34\n",
    "print(type(num1))"
   ]
  },
  {
   "cell_type": "code",
   "execution_count": 2,
   "id": "44801c6f",
   "metadata": {},
   "outputs": [
    {
     "name": "stdout",
     "output_type": "stream",
     "text": [
      "<class 'float'>\n"
     ]
    }
   ],
   "source": [
    "num2 = 56.78\n",
    "print(type(num2))"
   ]
  },
  {
   "cell_type": "code",
   "execution_count": 3,
   "id": "e8c33b27",
   "metadata": {},
   "outputs": [
    {
     "name": "stdout",
     "output_type": "stream",
     "text": [
      "<class 'str'>\n"
     ]
    }
   ],
   "source": [
    "str1 = 'Data'\n",
    "print(type(str1))"
   ]
  },
  {
   "cell_type": "code",
   "execution_count": 6,
   "id": "a4a1cec9",
   "metadata": {},
   "outputs": [
    {
     "name": "stdout",
     "output_type": "stream",
     "text": [
      "<class 'list'>\n"
     ]
    }
   ],
   "source": [
    "l1 = [24, 25, 26, True]\n",
    "print(type(l1))"
   ]
  },
  {
   "cell_type": "code",
   "execution_count": 7,
   "id": "1c98f766",
   "metadata": {},
   "outputs": [
    {
     "name": "stdout",
     "output_type": "stream",
     "text": [
      "<class 'dict'>\n"
     ]
    }
   ],
   "source": [
    "d1 = {'Name':['Seeta', 'Geeta', 'Neeta', 'Meeta'],\n",
    "      'Age':[23, 24,34,35]}\n",
    "print(type(d1))"
   ]
  },
  {
   "cell_type": "code",
   "execution_count": 11,
   "metadata": {},
   "outputs": [
    {
     "data": {
      "text/plain": [
       "{'Name': ['Seeta', 'Geeta', 'Neeta', 'Meeta'], 'Age': [23, 24, 34, 35]}"
      ]
     },
     "execution_count": 11,
     "metadata": {},
     "output_type": "execute_result"
    }
   ],
   "source": [
    "d1"
   ]
  },
  {
   "cell_type": "code",
   "execution_count": 111,
   "id": "3d824ed7",
   "metadata": {},
   "outputs": [],
   "source": [
    "from warnings import filterwarnings\n",
    "filterwarnings ('ignore')"
   ]
  },
  {
   "cell_type": "code",
   "execution_count": 112,
   "id": "b6701adc",
   "metadata": {},
   "outputs": [],
   "source": [
    "class Person :\n",
    "    def __init__(self, name, age, gender, occupation):\n",
    "        self.name = name,\n",
    "        self.age = age , \n",
    "        self.gender = gender,\n",
    "        self.occupation = occupation"
   ]
  },
  {
   "cell_type": "code",
   "execution_count": 113,
   "id": "f9cb6647",
   "metadata": {},
   "outputs": [],
   "source": [
    "p2 = Person('Swara', 23, 'female', 'Asst. Prof')"
   ]
  },
  {
   "cell_type": "code",
   "execution_count": 114,
   "id": "42883cdd",
   "metadata": {},
   "outputs": [
    {
     "data": {
      "text/plain": [
       "('Swara',)"
      ]
     },
     "execution_count": 114,
     "metadata": {},
     "output_type": "execute_result"
    }
   ],
   "source": [
    "p2.name"
   ]
  },
  {
   "cell_type": "code",
   "execution_count": 115,
   "id": "30d559fd",
   "metadata": {},
   "outputs": [],
   "source": [
    "p1 = Person(name = 'Umesh', age = 23, gender = 'male', occupation= 'Bussiness')"
   ]
  },
  {
   "cell_type": "code",
   "execution_count": 116,
   "id": "900c7340",
   "metadata": {},
   "outputs": [
    {
     "data": {
      "text/plain": [
       "'Bussiness'"
      ]
     },
     "execution_count": 116,
     "metadata": {},
     "output_type": "execute_result"
    }
   ],
   "source": [
    "p1.occupation"
   ]
  },
  {
   "cell_type": "code",
   "execution_count": 117,
   "id": "155e59b2",
   "metadata": {},
   "outputs": [],
   "source": [
    "p1.occupation = 'ML Engineer'"
   ]
  },
  {
   "cell_type": "code",
   "execution_count": 118,
   "metadata": {},
   "outputs": [
    {
     "data": {
      "text/plain": [
       "'ML Engineer'"
      ]
     },
     "execution_count": 118,
     "metadata": {},
     "output_type": "execute_result"
    }
   ],
   "source": [
    "p1.occupation"
   ]
  },
  {
   "cell_type": "code",
   "execution_count": 119,
   "id": "b35b8775",
   "metadata": {},
   "outputs": [],
   "source": [
    "p1.Salary = 550000"
   ]
  },
  {
   "cell_type": "code",
   "execution_count": 120,
   "id": "9c21726b",
   "metadata": {},
   "outputs": [
    {
     "data": {
      "text/plain": [
       "550000"
      ]
     },
     "execution_count": 120,
     "metadata": {},
     "output_type": "execute_result"
    }
   ],
   "source": [
    "p1.Salary"
   ]
  },
  {
   "cell_type": "code",
   "execution_count": 121,
   "id": "3ea08505",
   "metadata": {},
   "outputs": [],
   "source": [
    "p1.__delattr__('Salary')"
   ]
  },
  {
   "cell_type": "code",
   "execution_count": 122,
   "id": "bfa3c0eb",
   "metadata": {},
   "outputs": [
    {
     "ename": "AttributeError",
     "evalue": "'Person' object has no attribute 'Salary'",
     "output_type": "error",
     "traceback": [
      "\u001b[31m---------------------------------------------------------------------------\u001b[39m",
      "\u001b[31mAttributeError\u001b[39m                            Traceback (most recent call last)",
      "\u001b[36mCell\u001b[39m\u001b[36m \u001b[39m\u001b[32mIn[122]\u001b[39m\u001b[32m, line 1\u001b[39m\n\u001b[32m----> \u001b[39m\u001b[32m1\u001b[39m \u001b[43mp1\u001b[49m\u001b[43m.\u001b[49m\u001b[43mSalary\u001b[49m\n",
      "\u001b[31mAttributeError\u001b[39m: 'Person' object has no attribute 'Salary'"
     ]
    }
   ],
   "source": [
    "p1.Salary"
   ]
  },
  {
   "cell_type": "code",
   "execution_count": 123,
   "id": "6ba0cf4c",
   "metadata": {},
   "outputs": [],
   "source": [
    "class Person :\n",
    "    country = 'India'           #class Atributes\n",
    "    def __init__(self, name, age, gender, occupation):\n",
    "        self.name = name,\n",
    "        self.age = age , \n",
    "        self.gender = gender,\n",
    "        self.occupation = occupation"
   ]
  },
  {
   "cell_type": "code",
   "execution_count": 124,
   "id": "9d7eb900",
   "metadata": {},
   "outputs": [],
   "source": [
    "p1 = Person(name = 'Umesh', age = 23, gender = 'male', occupation= 'Bussiness')"
   ]
  },
  {
   "cell_type": "code",
   "execution_count": 125,
   "id": "02b30901",
   "metadata": {},
   "outputs": [
    {
     "data": {
      "text/plain": [
       "'India'"
      ]
     },
     "execution_count": 125,
     "metadata": {},
     "output_type": "execute_result"
    }
   ],
   "source": [
    "p1.country"
   ]
  },
  {
   "cell_type": "code",
   "execution_count": 126,
   "id": "64db6722",
   "metadata": {},
   "outputs": [],
   "source": [
    "class Person :\n",
    "    country = 'India'          \n",
    "    def __init__(self, name, age, gender, occupation):\n",
    "        self.name = name\n",
    "        self.age = age \n",
    "        self.gender = gender\n",
    "        self.occupation = occupation\n",
    "\n",
    "    def talk(self):\n",
    "        print(f'Hi I am {self.name}')  \n",
    "        print(f'I am {self.age} years old')\n",
    "        print(f'My Profession is {self.occupation}')\n",
    "        print(f'I am {self.gender}')  "
   ]
  },
  {
   "cell_type": "code",
   "execution_count": 127,
   "id": "13ca503d",
   "metadata": {},
   "outputs": [],
   "source": [
    "p1 = Person('Ram', 23, 'Male', 'Buisness')"
   ]
  },
  {
   "cell_type": "code",
   "execution_count": 128,
   "metadata": {},
   "outputs": [
    {
     "data": {
      "text/plain": [
       "'Ram'"
      ]
     },
     "execution_count": 128,
     "metadata": {},
     "output_type": "execute_result"
    }
   ],
   "source": [
    "p1.name"
   ]
  },
  {
   "cell_type": "code",
   "execution_count": 129,
   "id": "7425837e",
   "metadata": {},
   "outputs": [
    {
     "data": {
      "text/plain": [
       "str"
      ]
     },
     "execution_count": 129,
     "metadata": {},
     "output_type": "execute_result"
    }
   ],
   "source": [
    "type(p1.name)"
   ]
  },
  {
   "cell_type": "code",
   "execution_count": 130,
   "id": "4b7fae3d",
   "metadata": {},
   "outputs": [
    {
     "data": {
      "text/plain": [
       "'Buisness'"
      ]
     },
     "execution_count": 130,
     "metadata": {},
     "output_type": "execute_result"
    }
   ],
   "source": [
    "p1.occupation"
   ]
  },
  {
   "cell_type": "code",
   "execution_count": 131,
   "metadata": {},
   "outputs": [
    {
     "name": "stdout",
     "output_type": "stream",
     "text": [
      "Hi I am Ram\n",
      "I am 23 years old\n",
      "My Profession is Buisness\n",
      "I am Male\n"
     ]
    }
   ],
   "source": [
    "p1.talk()"
   ]
  },
  {
   "cell_type": "code",
   "execution_count": 132,
   "id": "d365c3ce",
   "metadata": {},
   "outputs": [
    {
     "data": {
      "text/plain": [
       "'India'"
      ]
     },
     "execution_count": 132,
     "metadata": {},
     "output_type": "execute_result"
    }
   ],
   "source": [
    "p1.country"
   ]
  },
  {
   "cell_type": "markdown",
   "id": "3e20b387",
   "metadata": {},
   "source": [
    " # Creat Student class with dataclasses\n",
    "- name \n",
    "- gender\n",
    "- marks\n",
    "- hobbies"
   ]
  },
  {
   "cell_type": "code",
   "execution_count": 133,
   "id": "d294a9c1",
   "metadata": {},
   "outputs": [],
   "source": [
    "from dataclasses import dataclass\n",
    "from typing import Literal"
   ]
  },
  {
   "cell_type": "code",
   "execution_count": 150,
   "id": "db96f1fc",
   "metadata": {},
   "outputs": [],
   "source": [
    "@dataclass\n",
    "class Student:\n",
    "    Name: str\n",
    "    Marks: int|float\n",
    "    Gender:Literal['Male', 'Female']\n",
    "    Hobbies:list[str]\n",
    "    def get_info(self):\n",
    "        print(f'I am {self.Name}')\n",
    "        print(f'I got marks {self.Marks}')\n",
    "        print(f'I am {self.Gender}')\n",
    "        print(f'My Hobbies are {self.Hobbies}')   "
   ]
  },
  {
   "cell_type": "code",
   "execution_count": 151,
   "id": "14c50de5",
   "metadata": {},
   "outputs": [],
   "source": [
    "s1 = Student('Malhar',89.2, 'Male', ['Reading', 'Swimming'])"
   ]
  },
  {
   "cell_type": "code",
   "execution_count": 152,
   "id": "019b4b47",
   "metadata": {},
   "outputs": [
    {
     "data": {
      "text/plain": [
       "89.2"
      ]
     },
     "execution_count": 152,
     "metadata": {},
     "output_type": "execute_result"
    }
   ],
   "source": [
    "s1.Marks"
   ]
  },
  {
   "cell_type": "code",
   "execution_count": 137,
   "id": "0e95448c",
   "metadata": {},
   "outputs": [
    {
     "data": {
      "text/plain": [
       "['Reading', 'Swimming']"
      ]
     },
     "execution_count": 137,
     "metadata": {},
     "output_type": "execute_result"
    }
   ],
   "source": [
    "s1.Hobbies"
   ]
  },
  {
   "cell_type": "code",
   "execution_count": 154,
   "id": "e20681d4",
   "metadata": {},
   "outputs": [
    {
     "name": "stdout",
     "output_type": "stream",
     "text": [
      "I am Malhar\n",
      "I got marks 89.2\n",
      "I am Male\n",
      "My Hobbies are ['Reading', 'Swimming']\n"
     ]
    }
   ],
   "source": [
    "s1.get_info()"
   ]
  },
  {
   "cell_type": "code",
   "execution_count": 139,
   "id": "db174675",
   "metadata": {},
   "outputs": [],
   "source": [
    "@dataclass\n",
    "class Account:\n",
    "    Name : str\n",
    "    acc_no : int\n",
    "    bal :float|int\n",
    "    def check_balance(self):\n",
    "        print(f'Current balance of account {self.acc_no} is Rs {self.bal}')\n",
    "\n",
    "    def deposit(self, amt):\n",
    "        print(f'Amount of Rs {amt} is added in account {self.acc_no}')\n",
    "        self.bal = self.bal+amt\n",
    "        self.check_balance()\n",
    "\n",
    "    def withdraw(self, amt):\n",
    "        if self.bal<amt:\n",
    "            raise ValueError('Insufficient Balance')\n",
    "        else:\n",
    "            self.bal =self.bal - amt\n",
    "            print('Amount of Rs', amt, 'is withdrawed from account', self.acc_no)\n",
    "    def Transfer(self, amt:int|float, ac = 'Account'):\n",
    "        self.withdraw(amt)\n",
    "        ac.deposit(amt)            "
   ]
  },
  {
   "cell_type": "code",
   "execution_count": 140,
   "id": "7f8bbf86",
   "metadata": {},
   "outputs": [],
   "source": [
    "u1 = Account('Babita', 1234, 2000)"
   ]
  },
  {
   "cell_type": "code",
   "execution_count": 141,
   "id": "48864ae3",
   "metadata": {},
   "outputs": [
    {
     "data": {
      "text/plain": [
       "'Babita'"
      ]
     },
     "execution_count": 141,
     "metadata": {},
     "output_type": "execute_result"
    }
   ],
   "source": [
    "u1.Name"
   ]
  },
  {
   "cell_type": "code",
   "execution_count": 142,
   "id": "0bcadde2",
   "metadata": {},
   "outputs": [
    {
     "data": {
      "text/plain": [
       "2000"
      ]
     },
     "execution_count": 142,
     "metadata": {},
     "output_type": "execute_result"
    }
   ],
   "source": [
    "u1.bal"
   ]
  },
  {
   "cell_type": "code",
   "execution_count": 143,
   "id": "5f606d90",
   "metadata": {},
   "outputs": [
    {
     "name": "stdout",
     "output_type": "stream",
     "text": [
      "Current balance of account 1234 is Rs 2000\n"
     ]
    }
   ],
   "source": [
    "u1.check_balance()"
   ]
  },
  {
   "cell_type": "code",
   "execution_count": 144,
   "id": "4442ed10",
   "metadata": {},
   "outputs": [
    {
     "name": "stdout",
     "output_type": "stream",
     "text": [
      "Amount of Rs 500 is added in account 1234\n",
      "Current balance of account 1234 is Rs 2500\n"
     ]
    }
   ],
   "source": [
    "u1.deposit(500)"
   ]
  },
  {
   "cell_type": "code",
   "execution_count": 145,
   "id": "a7a2bbc9",
   "metadata": {},
   "outputs": [],
   "source": [
    "u2 = Account('Smita', 5678, 2300)"
   ]
  },
  {
   "cell_type": "code",
   "execution_count": 146,
   "id": "b8b7676d",
   "metadata": {},
   "outputs": [
    {
     "name": "stdout",
     "output_type": "stream",
     "text": [
      "Amount of Rs 200 is withdrawed from account 5678\n",
      "Amount of Rs 200 is added in account 1234\n",
      "Current balance of account 1234 is Rs 2700\n"
     ]
    }
   ],
   "source": [
    "u2.Transfer(200, u1)"
   ]
  },
  {
   "cell_type": "code",
   "execution_count": 155,
   "id": "a1906cfa",
   "metadata": {},
   "outputs": [
    {
     "ename": "ValueError",
     "evalue": "Insufficient Balance",
     "output_type": "error",
     "traceback": [
      "\u001b[31m---------------------------------------------------------------------------\u001b[39m",
      "\u001b[31mValueError\u001b[39m                                Traceback (most recent call last)",
      "\u001b[36mCell\u001b[39m\u001b[36m \u001b[39m\u001b[32mIn[155]\u001b[39m\u001b[32m, line 1\u001b[39m\n\u001b[32m----> \u001b[39m\u001b[32m1\u001b[39m \u001b[43mu2\u001b[49m\u001b[43m.\u001b[49m\u001b[43mwithdraw\u001b[49m\u001b[43m(\u001b[49m\u001b[32;43m3000\u001b[39;49m\u001b[43m)\u001b[49m\n",
      "\u001b[36mCell\u001b[39m\u001b[36m \u001b[39m\u001b[32mIn[139]\u001b[39m\u001b[32m, line 16\u001b[39m, in \u001b[36mAccount.withdraw\u001b[39m\u001b[34m(self, amt)\u001b[39m\n\u001b[32m     14\u001b[39m \u001b[38;5;28;01mdef\u001b[39;00m\u001b[38;5;250m \u001b[39m\u001b[34mwithdraw\u001b[39m(\u001b[38;5;28mself\u001b[39m, amt):\n\u001b[32m     15\u001b[39m     \u001b[38;5;28;01mif\u001b[39;00m \u001b[38;5;28mself\u001b[39m.bal<amt:\n\u001b[32m---> \u001b[39m\u001b[32m16\u001b[39m         \u001b[38;5;28;01mraise\u001b[39;00m \u001b[38;5;167;01mValueError\u001b[39;00m(\u001b[33m'\u001b[39m\u001b[33mInsufficient Balance\u001b[39m\u001b[33m'\u001b[39m)\n\u001b[32m     17\u001b[39m     \u001b[38;5;28;01melse\u001b[39;00m:\n\u001b[32m     18\u001b[39m         \u001b[38;5;28mself\u001b[39m.bal =\u001b[38;5;28mself\u001b[39m.bal - amt\n",
      "\u001b[31mValueError\u001b[39m: Insufficient Balance"
     ]
    }
   ],
   "source": [
    "u2.withdraw(3000)"
   ]
  },
  {
   "cell_type": "code",
   "execution_count": 148,
   "id": "64339b4f",
   "metadata": {},
   "outputs": [
    {
     "name": "stdout",
     "output_type": "stream",
     "text": [
      "Current balance of account 1234 is Rs 2700\n"
     ]
    }
   ],
   "source": [
    "u1.check_balance()"
   ]
  },
  {
   "cell_type": "code",
   "execution_count": 149,
   "id": "00827911",
   "metadata": {},
   "outputs": [
    {
     "name": "stdout",
     "output_type": "stream",
     "text": [
      "Current balance of account 5678 is Rs 2100\n"
     ]
    }
   ],
   "source": [
    "u2.check_balance()"
   ]
  },
  {
   "cell_type": "code",
   "execution_count": 1,
   "id": "539dfaeb",
   "metadata": {},
   "outputs": [],
   "source": [
    "from dataclasses import dataclass"
   ]
  },
  {
   "cell_type": "code",
   "execution_count": 2,
   "id": "6c701fb5",
   "metadata": {},
   "outputs": [],
   "source": [
    "@dataclass\n",
    "class Triangle :\n",
    "    a : int|float\n",
    "    b : int|float\n",
    "    c : int|float\n",
    "\n",
    "    def is_triangle(self):\n",
    "        if (\n",
    "            (self.a + self.b > self.c) and \n",
    "            (self.b + self.c > self.a)  and \n",
    "            (self.c + self.a > self.b) ):\n",
    "            return True\n",
    "        else:\n",
    "            return False\n",
    "        \n",
    "    def perimeter(self):\n",
    "        return self.a + self.b + self.c\n",
    "    def Area(self):\n",
    "        s = self.perimeter()/2\n",
    "        return (s*(s-self.a)*(s-self.b)*(s-self.c))**(1/2)\n",
    "\n",
    "\n"
   ]
  },
  {
   "cell_type": "code",
   "execution_count": 3,
   "id": "f9cf8eab",
   "metadata": {},
   "outputs": [],
   "source": [
    "t1 = Triangle(2,3,4)"
   ]
  },
  {
   "cell_type": "code",
   "execution_count": 4,
   "id": "185dfd21",
   "metadata": {},
   "outputs": [
    {
     "data": {
      "text/plain": [
       "9"
      ]
     },
     "execution_count": 4,
     "metadata": {},
     "output_type": "execute_result"
    }
   ],
   "source": [
    "t1.perimeter()"
   ]
  },
  {
   "cell_type": "code",
   "execution_count": 5,
   "id": "350c49ce",
   "metadata": {},
   "outputs": [
    {
     "data": {
      "text/plain": [
       "2.9047375096555625"
      ]
     },
     "execution_count": 5,
     "metadata": {},
     "output_type": "execute_result"
    }
   ],
   "source": [
    "t1.Area()"
   ]
  },
  {
   "cell_type": "code",
   "execution_count": 8,
   "id": "348a16e1",
   "metadata": {},
   "outputs": [],
   "source": [
    "t2 = Triangle(2, 31, 4)"
   ]
  },
  {
   "cell_type": "code",
   "execution_count": 9,
   "id": "1ff97c28",
   "metadata": {},
   "outputs": [
    {
     "data": {
      "text/plain": [
       "37"
      ]
     },
     "execution_count": 9,
     "metadata": {},
     "output_type": "execute_result"
    }
   ],
   "source": [
    "t2.perimeter()"
   ]
  },
  {
   "cell_type": "code",
   "execution_count": 10,
   "id": "ddaa471b",
   "metadata": {},
   "outputs": [
    {
     "data": {
      "text/plain": [
       "(1.4402825534459173e-14+235.2159911655668j)"
      ]
     },
     "execution_count": 10,
     "metadata": {},
     "output_type": "execute_result"
    }
   ],
   "source": [
    "t2.Area()"
   ]
  },
  {
   "cell_type": "code",
   "execution_count": 47,
   "metadata": {},
   "outputs": [],
   "source": [
    "@dataclass\n",
    "class Triangle :\n",
    "    a : int|float\n",
    "    b : int|float\n",
    "    c : int|float\n",
    "        \n",
    "    def perimeter(self):\n",
    "        if (\n",
    "            (self.a + self.b > self.c) and \n",
    "            (self.b + self.c > self.a)  and \n",
    "            (self.c + self.a > self.b) ):\n",
    "             return self.a + self.b + self.c\n",
    "             \n",
    "      \n",
    "    def Area(self):\n",
    "        if self.perimeter() is not None:\n",
    "            s = self.perimeter()/2\n",
    "            return (s*(s-self.a)*(s-self.b)*(s-self.c))**(1/2)\n",
    "        else:\n",
    "            return 'Not able to find area'"
   ]
  },
  {
   "cell_type": "code",
   "execution_count": 48,
   "metadata": {},
   "outputs": [],
   "source": [
    "T1= Triangle(13,14,15)"
   ]
  },
  {
   "cell_type": "code",
   "execution_count": 49,
   "id": "4944caee",
   "metadata": {},
   "outputs": [
    {
     "data": {
      "text/plain": [
       "42"
      ]
     },
     "execution_count": 49,
     "metadata": {},
     "output_type": "execute_result"
    }
   ],
   "source": [
    "T1.perimeter()"
   ]
  },
  {
   "cell_type": "code",
   "execution_count": 50,
   "metadata": {},
   "outputs": [
    {
     "data": {
      "text/plain": [
       "84.0"
      ]
     },
     "execution_count": 50,
     "metadata": {},
     "output_type": "execute_result"
    }
   ],
   "source": [
    "T1.Area()"
   ]
  },
  {
   "cell_type": "code",
   "execution_count": 51,
   "metadata": {},
   "outputs": [],
   "source": [
    "T2 = Triangle(13,1,20)"
   ]
  },
  {
   "cell_type": "code",
   "execution_count": 52,
   "metadata": {},
   "outputs": [],
   "source": [
    "T2.perimeter()"
   ]
  },
  {
   "cell_type": "code",
   "execution_count": 53,
   "metadata": {},
   "outputs": [
    {
     "data": {
      "text/plain": [
       "'Not able to find area'"
      ]
     },
     "execution_count": 53,
     "metadata": {},
     "output_type": "execute_result"
    }
   ],
   "source": [
    "T2.Area()"
   ]
  },
  {
   "cell_type": "code",
   "execution_count": 54,
   "id": "88d81a98",
   "metadata": {},
   "outputs": [],
   "source": [
    "T3 = Triangle(1,3,9)"
   ]
  },
  {
   "cell_type": "code",
   "execution_count": 55,
   "id": "8b949ff8",
   "metadata": {},
   "outputs": [],
   "source": [
    "T3.perimeter()"
   ]
  },
  {
   "cell_type": "code",
   "execution_count": 56,
   "id": "28f357ee",
   "metadata": {},
   "outputs": [
    {
     "data": {
      "text/plain": [
       "'Not able to find area'"
      ]
     },
     "execution_count": 56,
     "metadata": {},
     "output_type": "execute_result"
    }
   ],
   "source": [
    "T3.Area()"
   ]
  },
  {
   "cell_type": "code",
   "execution_count": 57,
   "id": "5fe31f13",
   "metadata": {},
   "outputs": [],
   "source": [
    "T4= Triangle(20,40,30)"
   ]
  },
  {
   "cell_type": "code",
   "execution_count": 59,
   "id": "2b9b18c6",
   "metadata": {},
   "outputs": [
    {
     "data": {
      "text/plain": [
       "20"
      ]
     },
     "execution_count": 59,
     "metadata": {},
     "output_type": "execute_result"
    }
   ],
   "source": [
    "T4.a"
   ]
  },
  {
   "cell_type": "code",
   "execution_count": 60,
   "id": "f53f9e53",
   "metadata": {},
   "outputs": [
    {
     "data": {
      "text/plain": [
       "40"
      ]
     },
     "execution_count": 60,
     "metadata": {},
     "output_type": "execute_result"
    }
   ],
   "source": [
    "t4.b"
   ]
  },
  {
   "cell_type": "code",
   "execution_count": 61,
   "id": "d9be3d0f",
   "metadata": {},
   "outputs": [
    {
     "data": {
      "text/plain": [
       "30"
      ]
     },
     "execution_count": 61,
     "metadata": {},
     "output_type": "execute_result"
    }
   ],
   "source": [
    "t4.c"
   ]
  },
  {
   "cell_type": "code",
   "execution_count": 62,
   "id": "d5b37910",
   "metadata": {},
   "outputs": [
    {
     "data": {
      "text/plain": [
       "90"
      ]
     },
     "execution_count": 62,
     "metadata": {},
     "output_type": "execute_result"
    }
   ],
   "source": [
    "T4.perimeter()"
   ]
  },
  {
   "cell_type": "code",
   "execution_count": 63,
   "id": "a46bf59a",
   "metadata": {},
   "outputs": [
    {
     "data": {
      "text/plain": [
       "290.4737509655563"
      ]
     },
     "execution_count": 63,
     "metadata": {},
     "output_type": "execute_result"
    }
   ],
   "source": [
    "t4.Area()"
   ]
  },
  {
   "cell_type": "code",
   "execution_count": 64,
   "id": "792b53e0",
   "metadata": {},
   "outputs": [
    {
     "name": "stdout",
     "output_type": "stream",
     "text": [
      "Area of Triangle is 84.0\n",
      "\n",
      "Perimeter of Triangle is Triangle(a=13, b=14, c=15) 42\n",
      "\n",
      "============================================\n",
      "\n",
      "Area of Triangle is Not able to find area\n",
      "\n",
      "Perimeter of Triangle is Triangle(a=13, b=1, c=20) None\n",
      "\n",
      "============================================\n",
      "\n",
      "Area of Triangle is Not able to find area\n",
      "\n",
      "Perimeter of Triangle is Triangle(a=1, b=3, c=9) None\n",
      "\n",
      "============================================\n",
      "\n",
      "Area of Triangle is 290.4737509655563\n",
      "\n",
      "Perimeter of Triangle is Triangle(a=20, b=40, c=30) 90\n",
      "\n",
      "============================================\n",
      "\n"
     ]
    }
   ],
   "source": [
    "t = [T1, T2, T3, T4]\n",
    "for i in t:\n",
    "    print('Area of Triangle is', i.Area())\n",
    "    print()\n",
    "    print('Perimeter of Triangle is', i, i.perimeter())\n",
    "    print()\n",
    "    print('============================================')\n",
    "    print()"
   ]
  },
  {
   "cell_type": "code",
   "execution_count": 76,
   "id": "cd2b5875",
   "metadata": {},
   "outputs": [],
   "source": [
    "import math"
   ]
  },
  {
   "cell_type": "code",
   "execution_count": 1,
   "id": "2af378e2",
   "metadata": {},
   "outputs": [],
   "source": [
    "class Triangle:\n",
    "    def __init__(self, side1, side2, side3):\n",
    "        self.side1 = side1\n",
    "        self.side2 = side2\n",
    "        self.side3 = side3\n",
    "\n",
    "    def is_valid(self):\n",
    "        # Check if the sides form a valid triangle\n",
    "        return (self.side1 + self.side2 > self.side3 and\n",
    "                self.side2 + self.side3 > self.side1 and\n",
    "                self.side1 + self.side3 > self.side2)\n",
    "    def perimeter(self):\n",
    "        # Return the perimeter of the triangle\n",
    "        return self.side1 + self.side2 + self.side3\n",
    "\n",
    "def area(self):\n",
    "    if not self.is_valid():\n",
    "       raise ValueError (\"The given sides do not form a valid triangle.\")\n",
    "        \n",
    "        # Using Heron's formula to calculate area\n",
    "    s = self.perimeter() / 2\n",
    "    area = math.sqrt(s  (s - self.side1)  (s - self.side2) (s- self.side3))\n"
   ]
  },
  {
   "cell_type": "code",
   "execution_count": 10,
   "id": "d5396006",
   "metadata": {},
   "outputs": [],
   "source": [
    "t6 = Triangle(20,2,1)"
   ]
  },
  {
   "cell_type": "code",
   "execution_count": 11,
   "id": "675442f3",
   "metadata": {},
   "outputs": [
    {
     "data": {
      "text/plain": [
       "False"
      ]
     },
     "execution_count": 11,
     "metadata": {},
     "output_type": "execute_result"
    }
   ],
   "source": [
    "t6.is_valid()"
   ]
  },
  {
   "cell_type": "code",
   "execution_count": 2,
   "id": "2c79e0f1",
   "metadata": {},
   "outputs": [],
   "source": [
    "t2 = Triangle(4,5,6)"
   ]
  },
  {
   "cell_type": "code",
   "execution_count": 3,
   "id": "9aa286e1",
   "metadata": {},
   "outputs": [
    {
     "data": {
      "text/plain": [
       "True"
      ]
     },
     "execution_count": 3,
     "metadata": {},
     "output_type": "execute_result"
    }
   ],
   "source": [
    "t2.is_valid()"
   ]
  },
  {
   "cell_type": "code",
   "execution_count": 4,
   "id": "b23115ff",
   "metadata": {},
   "outputs": [],
   "source": [
    "t3 = Triangle(7,8,9)"
   ]
  },
  {
   "cell_type": "code",
   "execution_count": 5,
   "id": "61313bfb",
   "metadata": {},
   "outputs": [
    {
     "data": {
      "text/plain": [
       "True"
      ]
     },
     "execution_count": 5,
     "metadata": {},
     "output_type": "execute_result"
    }
   ],
   "source": [
    "t3.is_valid()"
   ]
  },
  {
   "cell_type": "code",
   "execution_count": 6,
   "id": "2d2a4c56",
   "metadata": {},
   "outputs": [],
   "source": [
    "t1 = Triangle(2,3,4)"
   ]
  },
  {
   "cell_type": "code",
   "execution_count": 7,
   "id": "a5fc47a6",
   "metadata": {},
   "outputs": [
    {
     "data": {
      "text/plain": [
       "2"
      ]
     },
     "execution_count": 7,
     "metadata": {},
     "output_type": "execute_result"
    }
   ],
   "source": [
    "t1.side1"
   ]
  },
  {
   "cell_type": "code",
   "execution_count": 8,
   "id": "121faf86",
   "metadata": {},
   "outputs": [],
   "source": [
    "t5 = Triangle(25,0,26)"
   ]
  },
  {
   "cell_type": "code",
   "execution_count": 9,
   "id": "18ce0b97",
   "metadata": {},
   "outputs": [
    {
     "data": {
      "text/plain": [
       "False"
      ]
     },
     "execution_count": 9,
     "metadata": {},
     "output_type": "execute_result"
    }
   ],
   "source": [
    "t5.is_valid()"
   ]
  },
  {
   "cell_type": "code",
   "execution_count": null,
   "id": "94b4ea82",
   "metadata": {},
   "outputs": [],
   "source": [
    "# creat class for simple calculator\n",
    "- addition\n",
    "- subtraction\n",
    "- multiplication\n",
    "- division"
   ]
  },
  {
   "cell_type": "code",
   "execution_count": 65,
   "id": "382656b2",
   "metadata": {},
   "outputs": [],
   "source": [
    "@dataclass\n",
    "class Calculator:\n",
    "    x : int|float\n",
    "    y : int|float\n",
    "\n",
    "    def addition(self):\n",
    "        if isinstance(self.x , (int, float)) and isinstance(self.y , (int, float)):\n",
    "            return self.x + self.y\n",
    "    \n",
    "    def subtraction(self):\n",
    "        if self.addition() is not None:\n",
    "            return self.x - self.y\n",
    "    \n",
    "    def multiplication(self):\n",
    "        if self.addition() is not None:\n",
    "            return self.x*self.y\n",
    "    \n",
    "    def division(self):\n",
    "        if self.y != 0 and  self.addition() is not None:\n",
    "            return self.x/self.y\n",
    "        else:\n",
    "            raise ValueError('Infinity')\n"
   ]
  },
  {
   "cell_type": "code",
   "execution_count": 66,
   "id": "b11e222e",
   "metadata": {},
   "outputs": [],
   "source": [
    "o1 = Calculator(2,9)"
   ]
  },
  {
   "cell_type": "code",
   "execution_count": 67,
   "id": "f158b1a9",
   "metadata": {},
   "outputs": [
    {
     "data": {
      "text/plain": [
       "0.2222222222222222"
      ]
     },
     "execution_count": 67,
     "metadata": {},
     "output_type": "execute_result"
    }
   ],
   "source": [
    "o1.division()"
   ]
  },
  {
   "cell_type": "code",
   "execution_count": 68,
   "id": "7304033f",
   "metadata": {},
   "outputs": [],
   "source": [
    "o2 = Calculator(2, 'Science')"
   ]
  },
  {
   "cell_type": "code",
   "execution_count": 69,
   "id": "001f91e5",
   "metadata": {},
   "outputs": [],
   "source": [
    "o2.addition()"
   ]
  },
  {
   "cell_type": "code",
   "execution_count": 70,
   "id": "e86b5af0",
   "metadata": {},
   "outputs": [],
   "source": [
    "o2.multiplication()"
   ]
  },
  {
   "cell_type": "code",
   "execution_count": 71,
   "id": "58e4cda7",
   "metadata": {},
   "outputs": [
    {
     "ename": "ValueError",
     "evalue": "Infinity",
     "output_type": "error",
     "traceback": [
      "\u001b[31m---------------------------------------------------------------------------\u001b[39m",
      "\u001b[31mValueError\u001b[39m                                Traceback (most recent call last)",
      "\u001b[36mCell\u001b[39m\u001b[36m \u001b[39m\u001b[32mIn[71]\u001b[39m\u001b[32m, line 1\u001b[39m\n\u001b[32m----> \u001b[39m\u001b[32m1\u001b[39m \u001b[43mo2\u001b[49m\u001b[43m.\u001b[49m\u001b[43mdivision\u001b[49m\u001b[43m(\u001b[49m\u001b[43m)\u001b[49m\n",
      "\u001b[36mCell\u001b[39m\u001b[36m \u001b[39m\u001b[32mIn[65]\u001b[39m\u001b[32m, line 22\u001b[39m, in \u001b[36mCalculator.division\u001b[39m\u001b[34m(self)\u001b[39m\n\u001b[32m     20\u001b[39m     \u001b[38;5;28;01mreturn\u001b[39;00m \u001b[38;5;28mself\u001b[39m.x/\u001b[38;5;28mself\u001b[39m.y\n\u001b[32m     21\u001b[39m \u001b[38;5;28;01melse\u001b[39;00m:\n\u001b[32m---> \u001b[39m\u001b[32m22\u001b[39m     \u001b[38;5;28;01mraise\u001b[39;00m \u001b[38;5;167;01mValueError\u001b[39;00m(\u001b[33m'\u001b[39m\u001b[33mInfinity\u001b[39m\u001b[33m'\u001b[39m)\n",
      "\u001b[31mValueError\u001b[39m: Infinity"
     ]
    }
   ],
   "source": [
    "o2.division()"
   ]
  },
  {
   "cell_type": "code",
   "execution_count": 72,
   "id": "87e73d64",
   "metadata": {},
   "outputs": [],
   "source": [
    "o3 = Calculator(34,0)"
   ]
  },
  {
   "cell_type": "code",
   "execution_count": 73,
   "id": "749e85f1",
   "metadata": {},
   "outputs": [
    {
     "ename": "ValueError",
     "evalue": "Infinity",
     "output_type": "error",
     "traceback": [
      "\u001b[31m---------------------------------------------------------------------------\u001b[39m",
      "\u001b[31mValueError\u001b[39m                                Traceback (most recent call last)",
      "\u001b[36mCell\u001b[39m\u001b[36m \u001b[39m\u001b[32mIn[73]\u001b[39m\u001b[32m, line 1\u001b[39m\n\u001b[32m----> \u001b[39m\u001b[32m1\u001b[39m \u001b[43mo3\u001b[49m\u001b[43m.\u001b[49m\u001b[43mdivision\u001b[49m\u001b[43m(\u001b[49m\u001b[43m)\u001b[49m\n",
      "\u001b[36mCell\u001b[39m\u001b[36m \u001b[39m\u001b[32mIn[65]\u001b[39m\u001b[32m, line 22\u001b[39m, in \u001b[36mCalculator.division\u001b[39m\u001b[34m(self)\u001b[39m\n\u001b[32m     20\u001b[39m     \u001b[38;5;28;01mreturn\u001b[39;00m \u001b[38;5;28mself\u001b[39m.x/\u001b[38;5;28mself\u001b[39m.y\n\u001b[32m     21\u001b[39m \u001b[38;5;28;01melse\u001b[39;00m:\n\u001b[32m---> \u001b[39m\u001b[32m22\u001b[39m     \u001b[38;5;28;01mraise\u001b[39;00m \u001b[38;5;167;01mValueError\u001b[39;00m(\u001b[33m'\u001b[39m\u001b[33mInfinity\u001b[39m\u001b[33m'\u001b[39m)\n",
      "\u001b[31mValueError\u001b[39m: Infinity"
     ]
    }
   ],
   "source": [
    "o3.division()"
   ]
  },
  {
   "cell_type": "code",
   "execution_count": 74,
   "id": "a68b49bb",
   "metadata": {},
   "outputs": [
    {
     "data": {
      "text/plain": [
       "34"
      ]
     },
     "execution_count": 74,
     "metadata": {},
     "output_type": "execute_result"
    }
   ],
   "source": [
    "o3.addition()"
   ]
  },
  {
   "cell_type": "code",
   "execution_count": 75,
   "id": "0ce26784",
   "metadata": {},
   "outputs": [
    {
     "data": {
      "text/plain": [
       "0"
      ]
     },
     "execution_count": 75,
     "metadata": {},
     "output_type": "execute_result"
    }
   ],
   "source": [
    "o3.multiplication()"
   ]
  },
  {
   "cell_type": "code",
   "execution_count": null,
   "id": "9eb1c829",
   "metadata": {},
   "outputs": [],
   "source": []
  }
 ],
 "metadata": {
  "kernelspec": {
   "display_name": ".venv",
   "language": "python",
   "name": "python3"
  },
  "language_info": {
   "codemirror_mode": {
    "name": "ipython",
    "version": 3
   },
   "file_extension": ".py",
   "mimetype": "text/x-python",
   "name": "python",
   "nbconvert_exporter": "python",
   "pygments_lexer": "ipython3",
   "version": "3.13.3"
  }
 },
 "nbformat": 4,
 "nbformat_minor": 5
}
