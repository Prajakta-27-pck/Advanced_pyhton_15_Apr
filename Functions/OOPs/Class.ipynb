{
 "cells": [
  {
   "cell_type": "markdown",
   "id": "53a3a29a",
   "metadata": {},
   "source": [
    "#### Class"
   ]
  },
  {
   "cell_type": "code",
   "execution_count": 1,
   "id": "865edb0c",
   "metadata": {},
   "outputs": [
    {
     "name": "stdout",
     "output_type": "stream",
     "text": [
      "<class 'int'>\n"
     ]
    }
   ],
   "source": [
    "num1 =34\n",
    "print(type(num1))"
   ]
  },
  {
   "cell_type": "code",
   "execution_count": 2,
   "id": "44801c6f",
   "metadata": {},
   "outputs": [
    {
     "name": "stdout",
     "output_type": "stream",
     "text": [
      "<class 'float'>\n"
     ]
    }
   ],
   "source": [
    "num2 = 56.78\n",
    "print(type(num2))"
   ]
  },
  {
   "cell_type": "code",
   "execution_count": 3,
   "id": "e8c33b27",
   "metadata": {},
   "outputs": [
    {
     "name": "stdout",
     "output_type": "stream",
     "text": [
      "<class 'str'>\n"
     ]
    }
   ],
   "source": [
    "str1 = 'Data'\n",
    "print(type(str1))"
   ]
  },
  {
   "cell_type": "code",
   "execution_count": 6,
   "id": "a4a1cec9",
   "metadata": {},
   "outputs": [
    {
     "name": "stdout",
     "output_type": "stream",
     "text": [
      "<class 'list'>\n"
     ]
    }
   ],
   "source": [
    "l1 = [24, 25, 26, True]\n",
    "print(type(l1))"
   ]
  },
  {
   "cell_type": "code",
   "execution_count": 7,
   "id": "1c98f766",
   "metadata": {},
   "outputs": [
    {
     "name": "stdout",
     "output_type": "stream",
     "text": [
      "<class 'dict'>\n"
     ]
    }
   ],
   "source": [
    "d1 = {'Name':['Seeta', 'Geeta', 'Neeta', 'Meeta'],\n",
    "      'Age':[23, 24,34,35]}\n",
    "print(type(d1))"
   ]
  },
  {
   "cell_type": "code",
   "execution_count": 11,
   "metadata": {},
   "outputs": [
    {
     "data": {
      "text/plain": [
       "{'Name': ['Seeta', 'Geeta', 'Neeta', 'Meeta'], 'Age': [23, 24, 34, 35]}"
      ]
     },
     "execution_count": 11,
     "metadata": {},
     "output_type": "execute_result"
    }
   ],
   "source": [
    "d1"
   ]
  },
  {
   "cell_type": "code",
   "execution_count": 111,
   "id": "3d824ed7",
   "metadata": {},
   "outputs": [],
   "source": [
    "from warnings import filterwarnings\n",
    "filterwarnings ('ignore')"
   ]
  },
  {
   "cell_type": "code",
   "execution_count": 112,
   "id": "b6701adc",
   "metadata": {},
   "outputs": [],
   "source": [
    "class Person :\n",
    "    def __init__(self, name, age, gender, occupation):\n",
    "        self.name = name,\n",
    "        self.age = age , \n",
    "        self.gender = gender,\n",
    "        self.occupation = occupation"
   ]
  },
  {
   "cell_type": "code",
   "execution_count": 113,
   "id": "f9cb6647",
   "metadata": {},
   "outputs": [],
   "source": [
    "p2 = Person('Swara', 23, 'female', 'Asst. Prof')"
   ]
  },
  {
   "cell_type": "code",
   "execution_count": 114,
   "id": "42883cdd",
   "metadata": {},
   "outputs": [
    {
     "data": {
      "text/plain": [
       "('Swara',)"
      ]
     },
     "execution_count": 114,
     "metadata": {},
     "output_type": "execute_result"
    }
   ],
   "source": [
    "p2.name"
   ]
  },
  {
   "cell_type": "code",
   "execution_count": 115,
   "id": "30d559fd",
   "metadata": {},
   "outputs": [],
   "source": [
    "p1 = Person(name = 'Umesh', age = 23, gender = 'male', occupation= 'Bussiness')"
   ]
  },
  {
   "cell_type": "code",
   "execution_count": 116,
   "id": "900c7340",
   "metadata": {},
   "outputs": [
    {
     "data": {
      "text/plain": [
       "'Bussiness'"
      ]
     },
     "execution_count": 116,
     "metadata": {},
     "output_type": "execute_result"
    }
   ],
   "source": [
    "p1.occupation"
   ]
  },
  {
   "cell_type": "code",
   "execution_count": 117,
   "id": "155e59b2",
   "metadata": {},
   "outputs": [],
   "source": [
    "p1.occupation = 'ML Engineer'"
   ]
  },
  {
   "cell_type": "code",
   "execution_count": 118,
   "metadata": {},
   "outputs": [
    {
     "data": {
      "text/plain": [
       "'ML Engineer'"
      ]
     },
     "execution_count": 118,
     "metadata": {},
     "output_type": "execute_result"
    }
   ],
   "source": [
    "p1.occupation"
   ]
  },
  {
   "cell_type": "code",
   "execution_count": 119,
   "id": "b35b8775",
   "metadata": {},
   "outputs": [],
   "source": [
    "p1.Salary = 550000"
   ]
  },
  {
   "cell_type": "code",
   "execution_count": 120,
   "id": "9c21726b",
   "metadata": {},
   "outputs": [
    {
     "data": {
      "text/plain": [
       "550000"
      ]
     },
     "execution_count": 120,
     "metadata": {},
     "output_type": "execute_result"
    }
   ],
   "source": [
    "p1.Salary"
   ]
  },
  {
   "cell_type": "code",
   "execution_count": 121,
   "id": "3ea08505",
   "metadata": {},
   "outputs": [],
   "source": [
    "p1.__delattr__('Salary')"
   ]
  },
  {
   "cell_type": "code",
   "execution_count": 122,
   "id": "bfa3c0eb",
   "metadata": {},
   "outputs": [
    {
     "ename": "AttributeError",
     "evalue": "'Person' object has no attribute 'Salary'",
     "output_type": "error",
     "traceback": [
      "\u001b[31m---------------------------------------------------------------------------\u001b[39m",
      "\u001b[31mAttributeError\u001b[39m                            Traceback (most recent call last)",
      "\u001b[36mCell\u001b[39m\u001b[36m \u001b[39m\u001b[32mIn[122]\u001b[39m\u001b[32m, line 1\u001b[39m\n\u001b[32m----> \u001b[39m\u001b[32m1\u001b[39m \u001b[43mp1\u001b[49m\u001b[43m.\u001b[49m\u001b[43mSalary\u001b[49m\n",
      "\u001b[31mAttributeError\u001b[39m: 'Person' object has no attribute 'Salary'"
     ]
    }
   ],
   "source": [
    "p1.Salary"
   ]
  },
  {
   "cell_type": "code",
   "execution_count": 123,
   "id": "6ba0cf4c",
   "metadata": {},
   "outputs": [],
   "source": [
    "class Person :\n",
    "    country = 'India'           #class Atributes\n",
    "    def __init__(self, name, age, gender, occupation):\n",
    "        self.name = name,\n",
    "        self.age = age , \n",
    "        self.gender = gender,\n",
    "        self.occupation = occupation"
   ]
  },
  {
   "cell_type": "code",
   "execution_count": 124,
   "id": "9d7eb900",
   "metadata": {},
   "outputs": [],
   "source": [
    "p1 = Person(name = 'Umesh', age = 23, gender = 'male', occupation= 'Bussiness')"
   ]
  },
  {
   "cell_type": "code",
   "execution_count": 125,
   "id": "02b30901",
   "metadata": {},
   "outputs": [
    {
     "data": {
      "text/plain": [
       "'India'"
      ]
     },
     "execution_count": 125,
     "metadata": {},
     "output_type": "execute_result"
    }
   ],
   "source": [
    "p1.country"
   ]
  },
  {
   "cell_type": "code",
   "execution_count": 126,
   "id": "64db6722",
   "metadata": {},
   "outputs": [],
   "source": [
    "class Person :\n",
    "    country = 'India'          \n",
    "    def __init__(self, name, age, gender, occupation):\n",
    "        self.name = name\n",
    "        self.age = age \n",
    "        self.gender = gender\n",
    "        self.occupation = occupation\n",
    "\n",
    "    def talk(self):\n",
    "        print(f'Hi I am {self.name}')  \n",
    "        print(f'I am {self.age} years old')\n",
    "        print(f'My Profession is {self.occupation}')\n",
    "        print(f'I am {self.gender}')  "
   ]
  },
  {
   "cell_type": "code",
   "execution_count": 127,
   "id": "13ca503d",
   "metadata": {},
   "outputs": [],
   "source": [
    "p1 = Person('Ram', 23, 'Male', 'Buisness')"
   ]
  },
  {
   "cell_type": "code",
   "execution_count": 128,
   "metadata": {},
   "outputs": [
    {
     "data": {
      "text/plain": [
       "'Ram'"
      ]
     },
     "execution_count": 128,
     "metadata": {},
     "output_type": "execute_result"
    }
   ],
   "source": [
    "p1.name"
   ]
  },
  {
   "cell_type": "code",
   "execution_count": 129,
   "id": "7425837e",
   "metadata": {},
   "outputs": [
    {
     "data": {
      "text/plain": [
       "str"
      ]
     },
     "execution_count": 129,
     "metadata": {},
     "output_type": "execute_result"
    }
   ],
   "source": [
    "type(p1.name)"
   ]
  },
  {
   "cell_type": "code",
   "execution_count": 130,
   "id": "4b7fae3d",
   "metadata": {},
   "outputs": [
    {
     "data": {
      "text/plain": [
       "'Buisness'"
      ]
     },
     "execution_count": 130,
     "metadata": {},
     "output_type": "execute_result"
    }
   ],
   "source": [
    "p1.occupation"
   ]
  },
  {
   "cell_type": "code",
   "execution_count": 131,
   "metadata": {},
   "outputs": [
    {
     "name": "stdout",
     "output_type": "stream",
     "text": [
      "Hi I am Ram\n",
      "I am 23 years old\n",
      "My Profession is Buisness\n",
      "I am Male\n"
     ]
    }
   ],
   "source": [
    "p1.talk()"
   ]
  },
  {
   "cell_type": "code",
   "execution_count": 132,
   "id": "d365c3ce",
   "metadata": {},
   "outputs": [
    {
     "data": {
      "text/plain": [
       "'India'"
      ]
     },
     "execution_count": 132,
     "metadata": {},
     "output_type": "execute_result"
    }
   ],
   "source": [
    "p1.country"
   ]
  },
  {
   "cell_type": "markdown",
   "id": "3e20b387",
   "metadata": {},
   "source": [
    " # Creat Student class with dataclasses\n",
    "- name \n",
    "- gender\n",
    "- marks\n",
    "- hobbies"
   ]
  },
  {
   "cell_type": "code",
   "execution_count": 133,
   "id": "d294a9c1",
   "metadata": {},
   "outputs": [],
   "source": [
    "from dataclasses import dataclass\n",
    "from typing import Literal"
   ]
  },
  {
   "cell_type": "code",
   "execution_count": 150,
   "id": "db96f1fc",
   "metadata": {},
   "outputs": [],
   "source": [
    "@dataclass\n",
    "class Student:\n",
    "    Name: str\n",
    "    Marks: int|float\n",
    "    Gender:Literal['Male', 'Female']\n",
    "    Hobbies:list[str]\n",
    "    def get_info(self):\n",
    "        print(f'I am {self.Name}')\n",
    "        print(f'I got marks {self.Marks}')\n",
    "        print(f'I am {self.Gender}')\n",
    "        print(f'My Hobbies are {self.Hobbies}')   "
   ]
  },
  {
   "cell_type": "code",
   "execution_count": 151,
   "id": "14c50de5",
   "metadata": {},
   "outputs": [],
   "source": [
    "s1 = Student('Malhar',89.2, 'Male', ['Reading', 'Swimming'])"
   ]
  },
  {
   "cell_type": "code",
   "execution_count": 152,
   "id": "019b4b47",
   "metadata": {},
   "outputs": [
    {
     "data": {
      "text/plain": [
       "89.2"
      ]
     },
     "execution_count": 152,
     "metadata": {},
     "output_type": "execute_result"
    }
   ],
   "source": [
    "s1.Marks"
   ]
  },
  {
   "cell_type": "code",
   "execution_count": 137,
   "id": "0e95448c",
   "metadata": {},
   "outputs": [
    {
     "data": {
      "text/plain": [
       "['Reading', 'Swimming']"
      ]
     },
     "execution_count": 137,
     "metadata": {},
     "output_type": "execute_result"
    }
   ],
   "source": [
    "s1.Hobbies"
   ]
  },
  {
   "cell_type": "code",
   "execution_count": 154,
   "id": "e20681d4",
   "metadata": {},
   "outputs": [
    {
     "name": "stdout",
     "output_type": "stream",
     "text": [
      "I am Malhar\n",
      "I got marks 89.2\n",
      "I am Male\n",
      "My Hobbies are ['Reading', 'Swimming']\n"
     ]
    }
   ],
   "source": [
    "s1.get_info()"
   ]
  },
  {
   "cell_type": "code",
   "execution_count": 139,
   "id": "db174675",
   "metadata": {},
   "outputs": [],
   "source": [
    "@dataclass\n",
    "class Account:\n",
    "    Name : str\n",
    "    acc_no : int\n",
    "    bal :float|int\n",
    "    def check_balance(self):\n",
    "        print(f'Current balance of account {self.acc_no} is Rs {self.bal}')\n",
    "\n",
    "    def deposit(self, amt):\n",
    "        print(f'Amount of Rs {amt} is added in account {self.acc_no}')\n",
    "        self.bal = self.bal+amt\n",
    "        self.check_balance()\n",
    "\n",
    "    def withdraw(self, amt):\n",
    "        if self.bal<amt:\n",
    "            raise ValueError('Insufficient Balance')\n",
    "        else:\n",
    "            self.bal =self.bal - amt\n",
    "            print('Amount of Rs', amt, 'is withdrawed from account', self.acc_no)\n",
    "    def Transfer(self, amt:int|float, ac = 'Account'):\n",
    "        self.withdraw(amt)\n",
    "        ac.deposit(amt)            "
   ]
  },
  {
   "cell_type": "code",
   "execution_count": 140,
   "id": "7f8bbf86",
   "metadata": {},
   "outputs": [],
   "source": [
    "u1 = Account('Babita', 1234, 2000)"
   ]
  },
  {
   "cell_type": "code",
   "execution_count": 141,
   "id": "48864ae3",
   "metadata": {},
   "outputs": [
    {
     "data": {
      "text/plain": [
       "'Babita'"
      ]
     },
     "execution_count": 141,
     "metadata": {},
     "output_type": "execute_result"
    }
   ],
   "source": [
    "u1.Name"
   ]
  },
  {
   "cell_type": "code",
   "execution_count": 142,
   "id": "0bcadde2",
   "metadata": {},
   "outputs": [
    {
     "data": {
      "text/plain": [
       "2000"
      ]
     },
     "execution_count": 142,
     "metadata": {},
     "output_type": "execute_result"
    }
   ],
   "source": [
    "u1.bal"
   ]
  },
  {
   "cell_type": "code",
   "execution_count": 143,
   "id": "5f606d90",
   "metadata": {},
   "outputs": [
    {
     "name": "stdout",
     "output_type": "stream",
     "text": [
      "Current balance of account 1234 is Rs 2000\n"
     ]
    }
   ],
   "source": [
    "u1.check_balance()"
   ]
  },
  {
   "cell_type": "code",
   "execution_count": 144,
   "id": "4442ed10",
   "metadata": {},
   "outputs": [
    {
     "name": "stdout",
     "output_type": "stream",
     "text": [
      "Amount of Rs 500 is added in account 1234\n",
      "Current balance of account 1234 is Rs 2500\n"
     ]
    }
   ],
   "source": [
    "u1.deposit(500)"
   ]
  },
  {
   "cell_type": "code",
   "execution_count": 145,
   "id": "a7a2bbc9",
   "metadata": {},
   "outputs": [],
   "source": [
    "u2 = Account('Smita', 5678, 2300)"
   ]
  },
  {
   "cell_type": "code",
   "execution_count": 146,
   "id": "b8b7676d",
   "metadata": {},
   "outputs": [
    {
     "name": "stdout",
     "output_type": "stream",
     "text": [
      "Amount of Rs 200 is withdrawed from account 5678\n",
      "Amount of Rs 200 is added in account 1234\n",
      "Current balance of account 1234 is Rs 2700\n"
     ]
    }
   ],
   "source": [
    "u2.Transfer(200, u1)"
   ]
  },
  {
   "cell_type": "code",
   "execution_count": 155,
   "id": "a1906cfa",
   "metadata": {},
   "outputs": [
    {
     "ename": "ValueError",
     "evalue": "Insufficient Balance",
     "output_type": "error",
     "traceback": [
      "\u001b[31m---------------------------------------------------------------------------\u001b[39m",
      "\u001b[31mValueError\u001b[39m                                Traceback (most recent call last)",
      "\u001b[36mCell\u001b[39m\u001b[36m \u001b[39m\u001b[32mIn[155]\u001b[39m\u001b[32m, line 1\u001b[39m\n\u001b[32m----> \u001b[39m\u001b[32m1\u001b[39m \u001b[43mu2\u001b[49m\u001b[43m.\u001b[49m\u001b[43mwithdraw\u001b[49m\u001b[43m(\u001b[49m\u001b[32;43m3000\u001b[39;49m\u001b[43m)\u001b[49m\n",
      "\u001b[36mCell\u001b[39m\u001b[36m \u001b[39m\u001b[32mIn[139]\u001b[39m\u001b[32m, line 16\u001b[39m, in \u001b[36mAccount.withdraw\u001b[39m\u001b[34m(self, amt)\u001b[39m\n\u001b[32m     14\u001b[39m \u001b[38;5;28;01mdef\u001b[39;00m\u001b[38;5;250m \u001b[39m\u001b[34mwithdraw\u001b[39m(\u001b[38;5;28mself\u001b[39m, amt):\n\u001b[32m     15\u001b[39m     \u001b[38;5;28;01mif\u001b[39;00m \u001b[38;5;28mself\u001b[39m.bal<amt:\n\u001b[32m---> \u001b[39m\u001b[32m16\u001b[39m         \u001b[38;5;28;01mraise\u001b[39;00m \u001b[38;5;167;01mValueError\u001b[39;00m(\u001b[33m'\u001b[39m\u001b[33mInsufficient Balance\u001b[39m\u001b[33m'\u001b[39m)\n\u001b[32m     17\u001b[39m     \u001b[38;5;28;01melse\u001b[39;00m:\n\u001b[32m     18\u001b[39m         \u001b[38;5;28mself\u001b[39m.bal =\u001b[38;5;28mself\u001b[39m.bal - amt\n",
      "\u001b[31mValueError\u001b[39m: Insufficient Balance"
     ]
    }
   ],
   "source": [
    "u2.withdraw(3000)"
   ]
  },
  {
   "cell_type": "code",
   "execution_count": 148,
   "id": "64339b4f",
   "metadata": {},
   "outputs": [
    {
     "name": "stdout",
     "output_type": "stream",
     "text": [
      "Current balance of account 1234 is Rs 2700\n"
     ]
    }
   ],
   "source": [
    "u1.check_balance()"
   ]
  },
  {
   "cell_type": "code",
   "execution_count": 149,
   "id": "00827911",
   "metadata": {},
   "outputs": [
    {
     "name": "stdout",
     "output_type": "stream",
     "text": [
      "Current balance of account 5678 is Rs 2100\n"
     ]
    }
   ],
   "source": [
    "u2.check_balance()"
   ]
  }
 ],
 "metadata": {
  "kernelspec": {
   "display_name": ".venv",
   "language": "python",
   "name": "python3"
  },
  "language_info": {
   "codemirror_mode": {
    "name": "ipython",
    "version": 3
   },
   "file_extension": ".py",
   "mimetype": "text/x-python",
   "name": "python",
   "nbconvert_exporter": "python",
   "pygments_lexer": "ipython3",
   "version": "3.13.3"
  }
 },
 "nbformat": 4,
 "nbformat_minor": 5
}
