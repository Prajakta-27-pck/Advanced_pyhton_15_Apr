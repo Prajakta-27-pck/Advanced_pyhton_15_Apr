{
 "cells": [
  {
   "cell_type": "markdown",
   "id": "bbf4b79a",
   "metadata": {},
   "source": [
    "#### Exception Handling"
   ]
  },
  {
   "cell_type": "code",
   "execution_count": 1,
   "id": "d794cc5c",
   "metadata": {},
   "outputs": [
    {
     "data": {
      "text/plain": [
       "0.6764705882352942"
      ]
     },
     "execution_count": 1,
     "metadata": {},
     "output_type": "execute_result"
    }
   ],
   "source": [
    "23/34"
   ]
  },
  {
   "cell_type": "code",
   "execution_count": 2,
   "id": "457aa62d",
   "metadata": {},
   "outputs": [
    {
     "name": "stderr",
     "output_type": "stream",
     "text": [
      "<>:1: SyntaxWarning: 'int' object is not callable; perhaps you missed a comma?\n",
      "<>:1: SyntaxWarning: 'int' object is not callable; perhaps you missed a comma?\n",
      "C:\\Users\\PRAJAKTA\\AppData\\Local\\Temp\\ipykernel_17516\\3824389642.py:1: SyntaxWarning: 'int' object is not callable; perhaps you missed a comma?\n",
      "  23()\n"
     ]
    },
    {
     "ename": "TypeError",
     "evalue": "'int' object is not callable",
     "output_type": "error",
     "traceback": [
      "\u001b[31m---------------------------------------------------------------------------\u001b[39m",
      "\u001b[31mTypeError\u001b[39m                                 Traceback (most recent call last)",
      "\u001b[36mCell\u001b[39m\u001b[36m \u001b[39m\u001b[32mIn[2]\u001b[39m\u001b[32m, line 1\u001b[39m\n\u001b[32m----> \u001b[39m\u001b[32m1\u001b[39m \u001b[32;43m23\u001b[39;49m\u001b[43m(\u001b[49m\u001b[43m)\u001b[49m\n",
      "\u001b[31mTypeError\u001b[39m: 'int' object is not callable"
     ]
    }
   ],
   "source": [
    "/23"
   ]
  },
  {
   "cell_type": "code",
   "execution_count": 3,
   "id": "369a958e",
   "metadata": {},
   "outputs": [
    {
     "ename": "TypeError",
     "evalue": "unsupported operand type(s) for /: 'str' and 'int'",
     "output_type": "error",
     "traceback": [
      "\u001b[31m---------------------------------------------------------------------------\u001b[39m",
      "\u001b[31mTypeError\u001b[39m                                 Traceback (most recent call last)",
      "\u001b[36mCell\u001b[39m\u001b[36m \u001b[39m\u001b[32mIn[3]\u001b[39m\u001b[32m, line 1\u001b[39m\n\u001b[32m----> \u001b[39m\u001b[32m1\u001b[39m \u001b[33;43m'\u001b[39;49m\u001b[33;43mstr\u001b[39;49m\u001b[33;43m'\u001b[39;49m\u001b[43m/\u001b[49m\u001b[32;43m34\u001b[39;49m\n",
      "\u001b[31mTypeError\u001b[39m: unsupported operand type(s) for /: 'str' and 'int'"
     ]
    }
   ],
   "source": [
    "'str'/34"
   ]
  },
  {
   "cell_type": "code",
   "execution_count": 5,
   "id": "b851fcff",
   "metadata": {},
   "outputs": [
    {
     "data": {
      "text/plain": [
       "123"
      ]
     },
     "execution_count": 5,
     "metadata": {},
     "output_type": "execute_result"
    }
   ],
   "source": [
    "s1 = '123'\n",
    "int(s1)"
   ]
  },
  {
   "cell_type": "code",
   "execution_count": 6,
   "id": "320d2b18",
   "metadata": {},
   "outputs": [
    {
     "ename": "ValueError",
     "evalue": "invalid literal for int() with base 10: 'abc'",
     "output_type": "error",
     "traceback": [
      "\u001b[31m---------------------------------------------------------------------------\u001b[39m",
      "\u001b[31mValueError\u001b[39m                                Traceback (most recent call last)",
      "\u001b[36mCell\u001b[39m\u001b[36m \u001b[39m\u001b[32mIn[6]\u001b[39m\u001b[32m, line 2\u001b[39m\n\u001b[32m      1\u001b[39m s2 = \u001b[33m'\u001b[39m\u001b[33mabc\u001b[39m\u001b[33m'\u001b[39m\n\u001b[32m----> \u001b[39m\u001b[32m2\u001b[39m \u001b[38;5;28;43mint\u001b[39;49m\u001b[43m(\u001b[49m\u001b[43ms2\u001b[49m\u001b[43m)\u001b[49m\n",
      "\u001b[31mValueError\u001b[39m: invalid literal for int() with base 10: 'abc'"
     ]
    }
   ],
   "source": [
    "s2 = 'abc'\n",
    "int(s2)"
   ]
  },
  {
   "cell_type": "markdown",
   "id": "812de5b2",
   "metadata": {},
   "source": [
    "##### Define Function for Division of two numbers"
   ]
  },
  {
   "cell_type": "code",
   "execution_count": 12,
   "id": "e3de13d9",
   "metadata": {},
   "outputs": [],
   "source": [
    "def Division():\n",
    "    num = float(input())\n",
    "    den = float(input())\n",
    "    div = num/den\n",
    "    print(f'division is between {num} and {den} --> {num}/{den}')\n",
    "    return div"
   ]
  },
  {
   "cell_type": "code",
   "execution_count": 13,
   "id": "79c8a873",
   "metadata": {},
   "outputs": [
    {
     "name": "stdout",
     "output_type": "stream",
     "text": [
      "division is between 12.0 and 2.0 --> 12.0/2.0\n"
     ]
    },
    {
     "data": {
      "text/plain": [
       "6.0"
      ]
     },
     "execution_count": 13,
     "metadata": {},
     "output_type": "execute_result"
    }
   ],
   "source": [
    "Division()"
   ]
  },
  {
   "cell_type": "code",
   "execution_count": 10,
   "id": "01259753",
   "metadata": {},
   "outputs": [
    {
     "name": "stdout",
     "output_type": "stream",
     "text": [
      "division is between 2.0 and 3.0 --> 2.0/3.0\n",
      "hello\n"
     ]
    }
   ],
   "source": [
    "Division()\n",
    "print('hello')"
   ]
  },
  {
   "cell_type": "code",
   "execution_count": 11,
   "id": "2cb37f6d",
   "metadata": {},
   "outputs": [
    {
     "ename": "ValueError",
     "evalue": "could not convert string to float: ''",
     "output_type": "error",
     "traceback": [
      "\u001b[31m---------------------------------------------------------------------------\u001b[39m",
      "\u001b[31mValueError\u001b[39m                                Traceback (most recent call last)",
      "\u001b[36mCell\u001b[39m\u001b[36m \u001b[39m\u001b[32mIn[11]\u001b[39m\u001b[32m, line 1\u001b[39m\n\u001b[32m----> \u001b[39m\u001b[32m1\u001b[39m \u001b[43mDivision\u001b[49m\u001b[43m(\u001b[49m\u001b[43m)\u001b[49m\n",
      "\u001b[36mCell\u001b[39m\u001b[36m \u001b[39m\u001b[32mIn[7]\u001b[39m\u001b[32m, line 2\u001b[39m, in \u001b[36mDivision\u001b[39m\u001b[34m()\u001b[39m\n\u001b[32m      1\u001b[39m \u001b[38;5;28;01mdef\u001b[39;00m\u001b[38;5;250m \u001b[39m\u001b[34mDivision\u001b[39m():\n\u001b[32m----> \u001b[39m\u001b[32m2\u001b[39m     num = \u001b[38;5;28;43mfloat\u001b[39;49m\u001b[43m(\u001b[49m\u001b[38;5;28;43minput\u001b[39;49m\u001b[43m(\u001b[49m\u001b[43m)\u001b[49m\u001b[43m)\u001b[49m\n\u001b[32m      3\u001b[39m     den = \u001b[38;5;28mfloat\u001b[39m(\u001b[38;5;28minput\u001b[39m())\n\u001b[32m      4\u001b[39m     div = num/den\n",
      "\u001b[31mValueError\u001b[39m: could not convert string to float: ''"
     ]
    }
   ],
   "source": [
    "Division()"
   ]
  },
  {
   "cell_type": "markdown",
   "id": "4d497773",
   "metadata": {},
   "source": [
    "### Use Try and Except"
   ]
  },
  {
   "cell_type": "code",
   "execution_count": 14,
   "id": "e3837a71",
   "metadata": {},
   "outputs": [],
   "source": [
    "def Division2():\n",
    "    try:\n",
    "        num = float(input())\n",
    "        den = float(input())\n",
    "        div = num/den\n",
    "        print(f'division is between {num} and {den} --> {num}/{den}')\n",
    "        return div\n",
    "    except Exception as e:\n",
    "        print('Exception occured', e)"
   ]
  },
  {
   "cell_type": "code",
   "execution_count": 15,
   "id": "716b07f7",
   "metadata": {},
   "outputs": [
    {
     "name": "stdout",
     "output_type": "stream",
     "text": [
      "division is between 12.0 and 4.0 --> 12.0/4.0\n"
     ]
    },
    {
     "data": {
      "text/plain": [
       "3.0"
      ]
     },
     "execution_count": 15,
     "metadata": {},
     "output_type": "execute_result"
    }
   ],
   "source": [
    "Division2()"
   ]
  },
  {
   "cell_type": "code",
   "execution_count": 18,
   "id": "2da43f4e",
   "metadata": {},
   "outputs": [
    {
     "name": "stdout",
     "output_type": "stream",
     "text": [
      "division is between 23.0 and 2.0 --> 23.0/2.0\n",
      "44\n",
      "hello\n",
      "data\n"
     ]
    }
   ],
   "source": [
    "Division2()\n",
    "print(12+32)\n",
    "print('hello')\n",
    "print('data')"
   ]
  },
  {
   "cell_type": "code",
   "execution_count": 19,
   "id": "430af5d5",
   "metadata": {},
   "outputs": [
    {
     "name": "stdout",
     "output_type": "stream",
     "text": [
      "Exception occured float division by zero\n",
      "44\n",
      "hello\n",
      "data\n"
     ]
    }
   ],
   "source": [
    "Division2()\n",
    "print(12+32)\n",
    "print('hello')\n",
    "print('data')"
   ]
  },
  {
   "cell_type": "code",
   "execution_count": 20,
   "id": "760ba5a1",
   "metadata": {},
   "outputs": [
    {
     "name": "stdout",
     "output_type": "stream",
     "text": [
      "Exception occured could not convert string to float: ''\n",
      "44\n",
      "hello\n",
      "data\n"
     ]
    }
   ],
   "source": [
    "Division2()\n",
    "print(12+32)\n",
    "print('hello')\n",
    "print('data')"
   ]
  },
  {
   "cell_type": "code",
   "execution_count": null,
   "id": "a21a0631",
   "metadata": {},
   "outputs": [],
   "source": []
  }
 ],
 "metadata": {
  "kernelspec": {
   "display_name": ".venv",
   "language": "python",
   "name": "python3"
  },
  "language_info": {
   "codemirror_mode": {
    "name": "ipython",
    "version": 3
   },
   "file_extension": ".py",
   "mimetype": "text/x-python",
   "name": "python",
   "nbconvert_exporter": "python",
   "pygments_lexer": "ipython3",
   "version": "3.13.3"
  }
 },
 "nbformat": 4,
 "nbformat_minor": 5
}
