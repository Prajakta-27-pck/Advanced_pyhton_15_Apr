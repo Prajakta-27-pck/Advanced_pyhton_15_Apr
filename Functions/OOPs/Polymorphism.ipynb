{
 "cells": [
  {
   "cell_type": "markdown",
   "id": "af96d698",
   "metadata": {},
   "source": []
  },
  {
   "cell_type": "code",
   "execution_count": 2,
   "id": "f2a7b7e0",
   "metadata": {},
   "outputs": [
    {
     "data": {
      "text/plain": [
       "2"
      ]
     },
     "execution_count": 2,
     "metadata": {},
     "output_type": "execute_result"
    }
   ],
   "source": [
    "dict1 = {'name': 'Swaraj', 'age': 2.5}\n",
    "len(dict1)"
   ]
  },
  {
   "cell_type": "code",
   "execution_count": 4,
   "id": "40746a25",
   "metadata": {},
   "outputs": [
    {
     "data": {
      "text/plain": [
       "2"
      ]
     },
     "execution_count": 4,
     "metadata": {},
     "output_type": "execute_result"
    }
   ],
   "source": [
    "dict1 = {'name': ['Swaraj','Swara', 'Aishu'], 'age': [2.5, 4.5, 23.0]}\n",
    "len(dict1)\n"
   ]
  },
  {
   "cell_type": "code",
   "execution_count": 7,
   "id": "7a4b4db3",
   "metadata": {},
   "outputs": [],
   "source": [
    "import pandas as pd"
   ]
  },
  {
   "cell_type": "code",
   "execution_count": 6,
   "id": "9aea993e",
   "metadata": {},
   "outputs": [
    {
     "name": "stdout",
     "output_type": "stream",
     "text": [
      "Collecting pandas\n",
      "  Using cached pandas-2.2.3-cp313-cp313-win_amd64.whl.metadata (19 kB)\n",
      "Collecting numpy>=1.26.0 (from pandas)\n",
      "  Downloading numpy-2.2.5-cp313-cp313-win_amd64.whl.metadata (60 kB)\n",
      "Requirement already satisfied: python-dateutil>=2.8.2 in d:\\advanced_python\\.venv\\lib\\site-packages (from pandas) (2.9.0.post0)\n",
      "Collecting pytz>=2020.1 (from pandas)\n",
      "  Using cached pytz-2025.2-py2.py3-none-any.whl.metadata (22 kB)\n",
      "Collecting tzdata>=2022.7 (from pandas)\n",
      "  Using cached tzdata-2025.2-py2.py3-none-any.whl.metadata (1.4 kB)\n",
      "Requirement already satisfied: six>=1.5 in d:\\advanced_python\\.venv\\lib\\site-packages (from python-dateutil>=2.8.2->pandas) (1.17.0)\n",
      "Using cached pandas-2.2.3-cp313-cp313-win_amd64.whl (11.5 MB)\n",
      "Downloading numpy-2.2.5-cp313-cp313-win_amd64.whl (12.6 MB)\n",
      "   ---------------------------------------- 0.0/12.6 MB ? eta -:--:--\n",
      "   ---- ----------------------------------- 1.3/12.6 MB 7.8 MB/s eta 0:00:02\n",
      "   --------- ------------------------------ 3.1/12.6 MB 7.7 MB/s eta 0:00:02\n",
      "   --------------- ------------------------ 5.0/12.6 MB 8.1 MB/s eta 0:00:01\n",
      "   --------------------- ------------------ 6.8/12.6 MB 8.3 MB/s eta 0:00:01\n",
      "   --------------------------- ------------ 8.7/12.6 MB 8.3 MB/s eta 0:00:01\n",
      "   -------------------------------- ------- 10.2/12.6 MB 8.4 MB/s eta 0:00:01\n",
      "   ------------------------------------- -- 11.8/12.6 MB 8.2 MB/s eta 0:00:01\n",
      "   ---------------------------------------- 12.6/12.6 MB 7.9 MB/s eta 0:00:00\n",
      "Using cached pytz-2025.2-py2.py3-none-any.whl (509 kB)\n",
      "Using cached tzdata-2025.2-py2.py3-none-any.whl (347 kB)\n",
      "Installing collected packages: pytz, tzdata, numpy, pandas\n",
      "Successfully installed numpy-2.2.5 pandas-2.2.3 pytz-2025.2 tzdata-2025.2\n"
     ]
    }
   ],
   "source": [
    "!pip install pandas "
   ]
  },
  {
   "cell_type": "code",
   "execution_count": 8,
   "id": "ae36b8c0",
   "metadata": {},
   "outputs": [
    {
     "data": {
      "text/html": [
       "<div>\n",
       "<style scoped>\n",
       "    .dataframe tbody tr th:only-of-type {\n",
       "        vertical-align: middle;\n",
       "    }\n",
       "\n",
       "    .dataframe tbody tr th {\n",
       "        vertical-align: top;\n",
       "    }\n",
       "\n",
       "    .dataframe thead th {\n",
       "        text-align: right;\n",
       "    }\n",
       "</style>\n",
       "<table border=\"1\" class=\"dataframe\">\n",
       "  <thead>\n",
       "    <tr style=\"text-align: right;\">\n",
       "      <th></th>\n",
       "      <th>name</th>\n",
       "      <th>age</th>\n",
       "    </tr>\n",
       "  </thead>\n",
       "  <tbody>\n",
       "    <tr>\n",
       "      <th>0</th>\n",
       "      <td>Swaraj</td>\n",
       "      <td>2.5</td>\n",
       "    </tr>\n",
       "    <tr>\n",
       "      <th>1</th>\n",
       "      <td>Swara</td>\n",
       "      <td>4.5</td>\n",
       "    </tr>\n",
       "    <tr>\n",
       "      <th>2</th>\n",
       "      <td>Aishu</td>\n",
       "      <td>23.0</td>\n",
       "    </tr>\n",
       "  </tbody>\n",
       "</table>\n",
       "</div>"
      ],
      "text/plain": [
       "     name   age\n",
       "0  Swaraj   2.5\n",
       "1   Swara   4.5\n",
       "2   Aishu  23.0"
      ]
     },
     "execution_count": 8,
     "metadata": {},
     "output_type": "execute_result"
    }
   ],
   "source": [
    "data = pd.DataFrame(dict1)\n",
    "data"
   ]
  },
  {
   "cell_type": "code",
   "execution_count": 9,
   "id": "53da1fb4",
   "metadata": {},
   "outputs": [
    {
     "data": {
      "text/plain": [
       "3"
      ]
     },
     "execution_count": 9,
     "metadata": {},
     "output_type": "execute_result"
    }
   ],
   "source": [
    "len(data)"
   ]
  },
  {
   "cell_type": "code",
   "execution_count": 10,
   "id": "eddf2e77",
   "metadata": {},
   "outputs": [
    {
     "data": {
      "text/plain": [
       "57.67"
      ]
     },
     "execution_count": 10,
     "metadata": {},
     "output_type": "execute_result"
    }
   ],
   "source": [
    "12 +45.67"
   ]
  },
  {
   "cell_type": "code",
   "execution_count": 11,
   "id": "becc5700",
   "metadata": {},
   "outputs": [
    {
     "data": {
      "text/plain": [
       "'datascience'"
      ]
     },
     "execution_count": 11,
     "metadata": {},
     "output_type": "execute_result"
    }
   ],
   "source": [
    "'data' + 'science'"
   ]
  },
  {
   "cell_type": "code",
   "execution_count": 12,
   "id": "b3861093",
   "metadata": {},
   "outputs": [
    {
     "data": {
      "text/plain": [
       "2"
      ]
     },
     "execution_count": 12,
     "metadata": {},
     "output_type": "execute_result"
    }
   ],
   "source": [
    "True + True"
   ]
  },
  {
   "cell_type": "code",
   "execution_count": 13,
   "id": "2f99e17b",
   "metadata": {},
   "outputs": [
    {
     "data": {
      "text/plain": [
       "[12, 23, 34, 12, 23, 34]"
      ]
     },
     "execution_count": 13,
     "metadata": {},
     "output_type": "execute_result"
    }
   ],
   "source": [
    "[12, 23, 34]+[12,23,34]"
   ]
  },
  {
   "cell_type": "code",
   "execution_count": 16,
   "id": "7e8bb783",
   "metadata": {},
   "outputs": [],
   "source": [
    "l1 = [12, 23, 34]\n",
    "l2 = [12, 25 ,64]\n",
    "l3 =[]\n",
    "for i in range(len(l1)):\n",
    "   l3.append(l1[i]+l2[i])\n"
   ]
  },
  {
   "cell_type": "code",
   "execution_count": 17,
   "id": "612133a3",
   "metadata": {},
   "outputs": [
    {
     "data": {
      "text/plain": [
       "[24, 48, 98]"
      ]
     },
     "execution_count": 17,
     "metadata": {},
     "output_type": "execute_result"
    }
   ],
   "source": [
    "l3"
   ]
  },
  {
   "cell_type": "code",
   "execution_count": 18,
   "id": "d61fda23",
   "metadata": {},
   "outputs": [
    {
     "data": {
      "text/plain": [
       "(12, 34, 65, 12, 67, 98)"
      ]
     },
     "execution_count": 18,
     "metadata": {},
     "output_type": "execute_result"
    }
   ],
   "source": [
    "(12, 34, 65) + (12, 67, 98)"
   ]
  },
  {
   "cell_type": "code",
   "execution_count": 19,
   "id": "e6969fbd",
   "metadata": {},
   "outputs": [
    {
     "ename": "TypeError",
     "evalue": "unsupported operand type(s) for +: 'set' and 'set'",
     "output_type": "error",
     "traceback": [
      "\u001b[31m---------------------------------------------------------------------------\u001b[39m",
      "\u001b[31mTypeError\u001b[39m                                 Traceback (most recent call last)",
      "\u001b[36mCell\u001b[39m\u001b[36m \u001b[39m\u001b[32mIn[19]\u001b[39m\u001b[32m, line 1\u001b[39m\n\u001b[32m----> \u001b[39m\u001b[32m1\u001b[39m \u001b[43m{\u001b[49m\u001b[32;43m12\u001b[39;49m\u001b[43m,\u001b[49m\u001b[43m \u001b[49m\u001b[32;43m34\u001b[39;49m\u001b[43m,\u001b[49m\u001b[43m \u001b[49m\u001b[32;43m65\u001b[39;49m\u001b[43m}\u001b[49m\u001b[43m \u001b[49m\u001b[43m+\u001b[49m\u001b[43m \u001b[49m\u001b[43m{\u001b[49m\u001b[32;43m12\u001b[39;49m\u001b[43m,\u001b[49m\u001b[43m \u001b[49m\u001b[32;43m35\u001b[39;49m\u001b[43m,\u001b[49m\u001b[43m \u001b[49m\u001b[32;43m56\u001b[39;49m\u001b[43m}\u001b[49m\n",
      "\u001b[31mTypeError\u001b[39m: unsupported operand type(s) for +: 'set' and 'set'"
     ]
    }
   ],
   "source": [
    "{12, 34, 65} + {12, 35, 56}"
   ]
  },
  {
   "cell_type": "code",
   "execution_count": 20,
   "id": "48ecd9e2",
   "metadata": {},
   "outputs": [],
   "source": [
    "from dataclasses import dataclass"
   ]
  },
  {
   "cell_type": "code",
   "execution_count": 28,
   "id": "d9fc6ac0",
   "metadata": {},
   "outputs": [],
   "source": [
    "class India:\n",
    "    def Capital(self):\n",
    "        print('Capital of India is New Delhi')\n",
    "    def Langauge(self):\n",
    "        print('Hindi is Widely Sopken Langauge in India')\n",
    "\n",
    "class USA:\n",
    "    def Capital(self):\n",
    "        print('Capital of USA is Washington D.C')\n",
    "    def Langauge(self):\n",
    "        print('English is Widely Sopken Langauge in USA')  \n",
    "\n",
    "class France:\n",
    "    def Capital(self):\n",
    "        print('Capital of France is Paris')\n",
    "    def Langauge(self):\n",
    "        print('French is Widely Sopken Langauge in France') \n"
   ]
  },
  {
   "cell_type": "code",
   "execution_count": 29,
   "id": "425990ae",
   "metadata": {},
   "outputs": [],
   "source": [
    "a = India()"
   ]
  },
  {
   "cell_type": "code",
   "execution_count": 30,
   "id": "135f9db5",
   "metadata": {},
   "outputs": [
    {
     "name": "stdout",
     "output_type": "stream",
     "text": [
      "Capital of India is New Delhi\n"
     ]
    }
   ],
   "source": [
    "a.Capital()"
   ]
  },
  {
   "cell_type": "code",
   "execution_count": 31,
   "id": "861bbd38",
   "metadata": {},
   "outputs": [
    {
     "name": "stdout",
     "output_type": "stream",
     "text": [
      "Hindi is Widely Sopken Langauge in India\n"
     ]
    }
   ],
   "source": [
    "a.Langauge()"
   ]
  },
  {
   "cell_type": "code",
   "execution_count": 32,
   "id": "05b9a9ef",
   "metadata": {},
   "outputs": [],
   "source": [
    "b = USA()"
   ]
  },
  {
   "cell_type": "code",
   "execution_count": 33,
   "id": "dc927b40",
   "metadata": {},
   "outputs": [
    {
     "name": "stdout",
     "output_type": "stream",
     "text": [
      "Capital of USA is Washington D.C\n"
     ]
    }
   ],
   "source": [
    "b.Capital()"
   ]
  },
  {
   "cell_type": "code",
   "execution_count": 34,
   "id": "70de41ca",
   "metadata": {},
   "outputs": [
    {
     "name": "stdout",
     "output_type": "stream",
     "text": [
      "English is Widely Sopken Langauge in USA\n"
     ]
    }
   ],
   "source": [
    "b.Langauge()"
   ]
  },
  {
   "cell_type": "code",
   "execution_count": 35,
   "id": "0a6b27be",
   "metadata": {},
   "outputs": [],
   "source": [
    "c = France()"
   ]
  },
  {
   "cell_type": "code",
   "execution_count": 36,
   "id": "d837b858",
   "metadata": {},
   "outputs": [
    {
     "name": "stdout",
     "output_type": "stream",
     "text": [
      "Capital of France is Paris\n"
     ]
    }
   ],
   "source": [
    "c.Capital()"
   ]
  },
  {
   "cell_type": "code",
   "execution_count": 37,
   "id": "401cc435",
   "metadata": {},
   "outputs": [
    {
     "name": "stdout",
     "output_type": "stream",
     "text": [
      "French is Widely Sopken Langauge in France\n"
     ]
    }
   ],
   "source": [
    "c.Langauge()"
   ]
  },
  {
   "cell_type": "code",
   "execution_count": 38,
   "id": "7e1e42f4",
   "metadata": {},
   "outputs": [
    {
     "name": "stdout",
     "output_type": "stream",
     "text": [
      "Capital of India is New Delhi\n",
      "None\n",
      "Hindi is Widely Sopken Langauge in India\n",
      "None\n",
      "\n",
      "=======================================\n",
      "\n",
      "Capital of USA is Washington D.C\n",
      "None\n",
      "English is Widely Sopken Langauge in USA\n",
      "None\n",
      "\n",
      "=======================================\n",
      "\n",
      "Capital of France is Paris\n",
      "None\n",
      "French is Widely Sopken Langauge in France\n",
      "None\n",
      "\n",
      "=======================================\n",
      "\n"
     ]
    }
   ],
   "source": [
    "t = [a, b, c]\n",
    "for i in t:\n",
    "    print(i.Capital())\n",
    "    print(i.Langauge())\n",
    "    print()\n",
    "    print('=======================================')\n",
    "    print()"
   ]
  },
  {
   "cell_type": "code",
   "execution_count": 39,
   "id": "ea179abb",
   "metadata": {},
   "outputs": [],
   "source": [
    "class India:\n",
    "    def Capital(self):\n",
    "        return('Capital of India is New Delhi')\n",
    "    def Langauge(self):\n",
    "        return('Hindi is Widely Sopken Langauge in India')\n",
    "\n",
    "class USA:\n",
    "    def Capital(self):\n",
    "        return('Capital of USA is Washington D.C')\n",
    "    def Langauge(self):\n",
    "        return('English is Widely Sopken Langauge in USA')  \n",
    "\n",
    "class France:\n",
    "    def Capital(self):\n",
    "        return('Capital of France is Paris')\n",
    "    def Langauge(self):\n",
    "        return('French is Widely Sopken Langauge in France') "
   ]
  },
  {
   "cell_type": "code",
   "execution_count": 42,
   "id": "05819ea3",
   "metadata": {},
   "outputs": [],
   "source": [
    "x = India()\n",
    "y = USA()\n",
    "z = France()"
   ]
  },
  {
   "cell_type": "code",
   "execution_count": 45,
   "id": "f2845c69",
   "metadata": {},
   "outputs": [
    {
     "name": "stdout",
     "output_type": "stream",
     "text": [
      "Capital of India is New Delhi\n",
      "Hindi is Widely Sopken Langauge in India\n",
      "\n",
      "\n",
      "******************************************\n",
      "\n",
      "\n",
      "Capital of USA is Washington D.C\n",
      "English is Widely Sopken Langauge in USA\n",
      "\n",
      "\n",
      "******************************************\n",
      "\n",
      "\n",
      "Capital of France is Paris\n",
      "French is Widely Sopken Langauge in France\n",
      "\n",
      "\n",
      "******************************************\n",
      "\n",
      "\n"
     ]
    }
   ],
   "source": [
    "t = [x, y, z]\n",
    "for i in t:\n",
    "    print(i.Capital())\n",
    "    print(i.Langauge())\n",
    "    print()\n",
    "    print()\n",
    "    print('******************************************')\n",
    "    print()\n",
    "    print()"
   ]
  },
  {
   "cell_type": "code",
   "execution_count": 1,
   "id": "827151be",
   "metadata": {},
   "outputs": [],
   "source": [
    "from dataclasses import dataclass"
   ]
  },
  {
   "cell_type": "code",
   "execution_count": 44,
   "id": "60a43a4f",
   "metadata": {},
   "outputs": [],
   "source": [
    "@dataclass\n",
    "\n",
    "class Rectangle:\n",
    "    height:int|float\n",
    "    width :int|float\n",
    "\n",
    "\n",
    "    def area(self):\n",
    "        return(self.width*self.height)\n",
    "    \n",
    "    def perimeter(self):\n",
    "        return 2 *(self.width + self.height)\n",
    "   \n",
    "    \n",
    "    "
   ]
  },
  {
   "cell_type": "code",
   "execution_count": 45,
   "id": "e0b6ede9",
   "metadata": {},
   "outputs": [],
   "source": [
    "rectangle = Rectangle(2,5)"
   ]
  },
  {
   "cell_type": "code",
   "execution_count": 46,
   "id": "d5f7f87e",
   "metadata": {},
   "outputs": [
    {
     "data": {
      "text/plain": [
       "14"
      ]
     },
     "execution_count": 46,
     "metadata": {},
     "output_type": "execute_result"
    }
   ],
   "source": [
    "rectangle.perimeter()"
   ]
  },
  {
   "cell_type": "code",
   "execution_count": 47,
   "id": "f116196f",
   "metadata": {},
   "outputs": [
    {
     "data": {
      "text/plain": [
       "10"
      ]
     },
     "execution_count": 47,
     "metadata": {},
     "output_type": "execute_result"
    }
   ],
   "source": [
    "rectangle.area()"
   ]
  },
  {
   "cell_type": "code",
   "execution_count": 48,
   "id": "9ef2eb74",
   "metadata": {},
   "outputs": [],
   "source": [
    "Square = Rectangle(4,4)"
   ]
  },
  {
   "cell_type": "code",
   "execution_count": 49,
   "id": "f2c1c0c0",
   "metadata": {},
   "outputs": [
    {
     "data": {
      "text/plain": [
       "16"
      ]
     },
     "execution_count": 49,
     "metadata": {},
     "output_type": "execute_result"
    }
   ],
   "source": [
    "Square.perimeter()"
   ]
  },
  {
   "cell_type": "code",
   "execution_count": 50,
   "id": "9abff913",
   "metadata": {},
   "outputs": [
    {
     "data": {
      "text/plain": [
       "16"
      ]
     },
     "execution_count": 50,
     "metadata": {},
     "output_type": "execute_result"
    }
   ],
   "source": [
    "Square.area()"
   ]
  },
  {
   "cell_type": "code",
   "execution_count": 67,
   "id": "cfd06290",
   "metadata": {},
   "outputs": [],
   "source": [
    "@dataclass\n",
    "class Circle:\n",
    "    radius: int|float\n",
    "\n",
    "    def perimeter(self):\n",
    "        return 2 * 3.14 * self.radius\n",
    "\n",
    "    def area(self):\n",
    "        return 3.14 * (self.radius ** 2)"
   ]
  },
  {
   "cell_type": "code",
   "execution_count": 68,
   "id": "2d129819",
   "metadata": {},
   "outputs": [
    {
     "name": "stdout",
     "output_type": "stream",
     "text": [
      "Perimeter: 31.400000000000002\n",
      "Area: 78.5\n"
     ]
    }
   ],
   "source": [
    "circle = Circle(5)\n",
    "print('Perimeter:',circle.perimeter())\n",
    "print('Area:', circle.area())"
   ]
  },
  {
   "cell_type": "code",
   "execution_count": 69,
   "id": "a7e26197",
   "metadata": {},
   "outputs": [
    {
     "data": {
      "text/plain": [
       "31.400000000000002"
      ]
     },
     "execution_count": 69,
     "metadata": {},
     "output_type": "execute_result"
    }
   ],
   "source": [
    "circle.perimeter()"
   ]
  },
  {
   "cell_type": "code",
   "execution_count": 70,
   "id": "4ad00d79",
   "metadata": {},
   "outputs": [
    {
     "data": {
      "text/plain": [
       "78.5"
      ]
     },
     "execution_count": 70,
     "metadata": {},
     "output_type": "execute_result"
    }
   ],
   "source": [
    "circle.area()"
   ]
  },
  {
   "cell_type": "code",
   "execution_count": 97,
   "id": "38f88895",
   "metadata": {},
   "outputs": [],
   "source": [
    "@dataclass\n",
    "@dataclass\n",
    "class Triangle :\n",
    "    a : int|float\n",
    "    b : int|float\n",
    "    c : int|float\n",
    "        \n",
    "    def perimeter(self):\n",
    "        if (\n",
    "            (self.a + self.b > self.c) and \n",
    "            (self.b + self.c > self.a)  and \n",
    "            (self.c + self.a > self.b) ):\n",
    "             return self.a + self.b + self.c\n",
    "             \n",
    "      \n",
    "    def area(self):\n",
    "        if self.perimeter() is not None:\n",
    "            s = self.perimeter()/2\n",
    "            return (s*(s-self.a)*(s-self.b)*(s-self.c))**(1/2)\n",
    "        else:\n",
    "            return 'Perimeter is None'"
   ]
  },
  {
   "cell_type": "code",
   "execution_count": 98,
   "id": "344945d0",
   "metadata": {},
   "outputs": [
    {
     "name": "stdout",
     "output_type": "stream",
     "text": [
      "Triangle(a=23, b=34, c=45)\n"
     ]
    }
   ],
   "source": [
    "T= Triangle(23, 34, 45)\n",
    "T.perimeter()\n",
    "print(T)"
   ]
  },
  {
   "cell_type": "code",
   "execution_count": 99,
   "id": "c8fe7b57",
   "metadata": {},
   "outputs": [],
   "source": [
    "rectangle = Rectangle(2,5)\n",
    "Square = Rectangle(4,4)\n",
    "circle = Circle(6)\n",
    "T = Triangle(23, 34, 56)"
   ]
  },
  {
   "cell_type": "code",
   "execution_count": 100,
   "id": "88ef4f47",
   "metadata": {},
   "outputs": [
    {
     "data": {
      "text/plain": [
       "37.68"
      ]
     },
     "execution_count": 100,
     "metadata": {},
     "output_type": "execute_result"
    }
   ],
   "source": [
    "circle.area()\n",
    "circle.perimeter()"
   ]
  },
  {
   "cell_type": "code",
   "execution_count": 101,
   "id": "a2bd177a",
   "metadata": {},
   "outputs": [],
   "source": [
    "l1 = [rectangle,Square, circle, T ]"
   ]
  },
  {
   "cell_type": "code",
   "execution_count": 102,
   "id": "2fe9fdf8",
   "metadata": {},
   "outputs": [
    {
     "name": "stdout",
     "output_type": "stream",
     "text": [
      "Rectangle(height=2, width=5)\n",
      "Rectangle(height=4, width=4)\n",
      "Circle(radius=6)\n",
      "Triangle(a=23, b=34, c=56)\n"
     ]
    }
   ],
   "source": [
    "for i in l1:\n",
    "    print(i)"
   ]
  },
  {
   "cell_type": "code",
   "execution_count": 103,
   "id": "8b9a6f50",
   "metadata": {},
   "outputs": [
    {
     "name": "stdout",
     "output_type": "stream",
     "text": [
      "Rectangle(height=2, width=5)\n",
      "Rectangle(height=4, width=4)\n",
      "Triangle(a=23, b=34, c=56)\n",
      "Circle(radius=6)\n"
     ]
    }
   ],
   "source": [
    "print(rectangle)\n",
    "print(Square)\n",
    "print(T)\n",
    "print(circle)"
   ]
  },
  {
   "cell_type": "code",
   "execution_count": 105,
   "id": "605850bf",
   "metadata": {},
   "outputs": [
    {
     "name": "stdout",
     "output_type": "stream",
     "text": [
      "Rectangle(height=2, width=5)\n",
      "Area is 10\n",
      "Perimeter is 14\n",
      "\n",
      "\n",
      "*******************************************\n",
      "Rectangle(height=4, width=4)\n",
      "Area is 16\n",
      "Perimeter is 16\n",
      "\n",
      "\n",
      "*******************************************\n",
      "Circle(radius=6)\n",
      "Area is 113.04\n",
      "Perimeter is 37.68\n",
      "\n",
      "\n",
      "*******************************************\n",
      "Triangle(a=23, b=34, c=56)\n",
      "Area is 145.92271070672996\n",
      "Perimeter is 113\n",
      "\n",
      "\n",
      "*******************************************\n"
     ]
    }
   ],
   "source": [
    "for i in (rectangle, Square, circle, T):\n",
    "    print(i)\n",
    "    print('Area is' , i.area())\n",
    "    print('Perimeter is', i.perimeter())\n",
    "    print()\n",
    "    print()\n",
    "    print('*******************************************')"
   ]
  },
  {
   "cell_type": "code",
   "execution_count": null,
   "id": "29c76e8d",
   "metadata": {},
   "outputs": [],
   "source": []
  }
 ],
 "metadata": {
  "kernelspec": {
   "display_name": ".venv",
   "language": "python",
   "name": "python3"
  },
  "language_info": {
   "codemirror_mode": {
    "name": "ipython",
    "version": 3
   },
   "file_extension": ".py",
   "mimetype": "text/x-python",
   "name": "python",
   "nbconvert_exporter": "python",
   "pygments_lexer": "ipython3",
   "version": "3.13.3"
  }
 },
 "nbformat": 4,
 "nbformat_minor": 5
}
